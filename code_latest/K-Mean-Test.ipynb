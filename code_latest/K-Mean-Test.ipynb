{
 "cells": [
  {
   "cell_type": "code",
   "execution_count": 4,
   "metadata": {},
   "outputs": [],
   "source": [
    "# To Test something new\n",
    "import pandas as pd\n",
    "import numpy as np\n",
    "import matplotlib.pyplot as plt\n",
    "%matplotlib inline\n",
    "\n",
    "\n",
    "#\n",
    "\n"
   ]
  },
  {
   "cell_type": "markdown",
   "metadata": {},
   "source": [
    "## http://benalexkeen.com/k-means-clustering-in-python/\n",
    "## http://benalexkeen.com/k-nearest-neighbours-classification-in-python/\n",
    "## http://localhost:8890/notebooks/05_support_vector_machines.ipynb"
   ]
  },
  {
   "cell_type": "code",
   "execution_count": 108,
   "metadata": {},
   "outputs": [
    {
     "data": {
      "text/plain": [
       "KMeans(algorithm='auto', copy_x=True, init='k-means++', max_iter=300,\n",
       "       n_clusters=2, n_init=10, n_jobs=None, precompute_distances='auto',\n",
       "       random_state=None, tol=0.0001, verbose=0)"
      ]
     },
     "execution_count": 108,
     "metadata": {},
     "output_type": "execute_result"
    }
   ],
   "source": [
    "\n",
    "\n",
    "# df = pd.DataFrame({\n",
    "#     'x': [12, 20, 28, 18, 29, 33, 24, 45, 45, 52, 51, 52, 55, 53, 55, 61, 64, 69, 72],\n",
    "#     'y': [39, 36, 30, 52, 54, 46, 55, 59, 63, 70, 66, 63, 58, 23, 14, 8, 19, 7, 24]\n",
    "# })\n",
    "\n",
    "df = pd.DataFrame({\n",
    "    'x': [ 1.19668401055, 0.474145274545, 0.988023729718, 0.797246611948, 1.04789832475,\n",
    "          1.03990542498, 1.13121439413, 1.08631472615, 1.07469086981, 0.886032307624,\n",
    "          0.951005023991, 0.895502975291, 0.942344827152, 0.889850355034, 0.904306850575,\n",
    "          0.832311177949, 0.848557799234, 0.850324223389, 0.818293173811, 0.825828408838,\n",
    "          0.814409638336, 0.830884974402, 0.806479318499, 0.868025405085, 0.826490721746,\n",
    "          0.819360449611, 0.784248087493, 0.77378668056, 0.780893303154, 0.833886058189,\n",
    "          0.835665801956, 0.807216713574, 0.85713096727, 0.819920784593, 0.876094440244,\n",
    "          0.810860725014, 0.833822424004, 0.852943516185, 0.86318969487, 0.861077256139,\n",
    "          0.839044665631, 0.848230047134, 0.803456373611, 0.886190059208, 0.8136859128,\n",
    "          0.906654939073, 0.823151324409, 0.904461982258, 0.857844762578, 0.833229685205,\n",
    "          0.853498938045, 0.826406362504, 0.871372621052, 0.85114098786, 0.905185365835,\n",
    "          0.858026607272, 0.927293357662, 0.864992778657, 0.9202683581, 0.882267575119],\n",
    "    'y': [ 33.941962979, 51.7040138507, 54.5014062128, 44.7791495107, 45.4768729094,\n",
    "          51.4634066604, 53.1647266698, 52.0242608654, 49.8410838062, 52.4404296488,\n",
    "          49.7568045335, 51.0437531458, 55.0366559275, 48.4305493425, 51.6633971256,\n",
    "          48.5705835575, 52.0303603369, 49.9504396542, 49.452573097, 47.733086729,\n",
    "          48.4680739933, 47.5676510841, 49.6969007239, 49.9506607586, 49.7524990932,\n",
    "          52.7017157847, 49.4347401694, 52.8211852884, 50.541103064, 52.8787516334,\n",
    "          49.9229344064, 52.1516101295, 50.7927303391, 53.3072043266, 50.6032946991,\n",
    "          52.8262708593, 53.8503517154, 51.9943401614, 53.9407780828, 51.666821983,\n",
    "          53.7023249209, 51.0239048842, 52.502597254, 50.9886969845, 52.5049492588,\n",
    "          51.2795753409, 53.1496752244, 51.2199770187, 52.507491852, 54.5219397,\n",
    "          53.3698649575, 55.4663640536, 54.4011857666, 56.5781060527, 54.4077194186,\n",
    "          55.7548587734, 54.1200246366, 55.5813974235, 53.6836491307, 54.7599768069]\n",
    "})\n",
    "\n",
    "\n",
    "\n",
    "\n",
    "\n",
    "from sklearn.cluster import KMeans\n",
    "\n",
    "## find best cluster\n",
    "M_max = 2\n",
    "kmeans = KMeans(n_clusters=M_max)\n",
    "kmeans.fit(df)"
   ]
  },
  {
   "cell_type": "code",
   "execution_count": 142,
   "metadata": {},
   "outputs": [
    {
     "name": "stdout",
     "output_type": "stream",
     "text": [
      "[1 0 0 1 1 0 0 0 1 0 1 0 0 1 0 1 0 1 1 1 1 1 1 1 1 0 1 0 0 0 1 0 0 0 0 0 0\n",
      " 0 0 0 0 0 0 0 0 0 0 0 0 0 0 0 0 0 0 0 0 0 0 0]\n",
      "[[ 0.86657986 52.94588019]\n",
      " [ 0.88531389 47.80744508]]\n",
      "0.8718878359067668 51.48999023861334\n",
      "17.47439843587375\n",
      "11.079955255962378\n"
     ]
    }
   ],
   "source": [
    "labels = kmeans.predict(df)\n",
    "centroids = kmeans.cluster_centers_\n",
    "\n",
    "print(labels)\n",
    "print(centroids)\n",
    "\n",
    "dt_mean = np.mean(df['x'])\n",
    "phi_mean = np.mean(df['y'])\n",
    "print(dt_mean,phi_mean)\n",
    "\n",
    "cluster_num=0\n",
    "## summed Variance of the individual clusters\n",
    "\n",
    "sigma_2 = np.mean(df['x'][np.where(labels==cluster_num)[0]]) \\\n",
    "         + np.var(df['y'][np.where(labels==cluster_num)[0]]) \\\n",
    "          + np.var(df['x'][np.where(labels==cluster_num+1)[0]]) \\\n",
    "          + np.var(df['y'][np.where(labels==cluster_num+1)[0]])\n",
    "print(sigma_2)    \n",
    "\n",
    "## Variance as if it where 1 \n",
    "sigma_1 = np.var(df['x'][np.where(((labels>=cluster_num) & \\\n",
    "               labels<=cluster_num+2))[0]])+np.var(df['y'][np.where(((labels>=cluster_num) & \\\n",
    "                                 labels<=cluster_num+2))[0]])\n",
    "print(sigma_1)   \n",
    "# as_one = df['x'][np.where(labels==cluster_num)][0],df['x'][np.where(labels==cluster_num+1)][0]\n",
    "# print(as_one)                 \n"
   ]
  },
  {
   "cell_type": "code",
   "execution_count": 146,
   "metadata": {},
   "outputs": [
    {
     "name": "stdout",
     "output_type": "stream",
     "text": [
      "-2.7066357383784108\n"
     ]
    }
   ],
   "source": [
    "## Vorgehen\n",
    "## split into M clusters\n",
    "## check if they can be combined with the criteria\n",
    "\n",
    "\n",
    "# cluster_num = 0\n",
    "\n",
    "# sigma_2  = np.sum((df['x'][np.where(labels==cluster_num)[0]]-centroids[cluster_num,0])**2\n",
    "#                  +(df['y'][np.where(labels==cluster_num)[0]]-centroids[cluster_num,1])**2)+np.sum((df['x'][np.where(labels==cluster_num+1)[0]]-centroids[cluster_num+1,0])**2\n",
    "#                  +(df['y'][np.where(labels==cluster_num+1)[0]]-centroids[cluster_num+1,1])**2)\n",
    "\n",
    "\n",
    "# sigma_1 = np.var(df['x'][np.where(labels==cluster_num)[0])\n",
    "\n",
    "\n",
    "## comparing the variance from 2 clusters with the variance of as if it is 1 cluster\n",
    "sigma_2 = sigma_1\n",
    "\n",
    "critical_val = 3.2\n",
    "dof = 2\n",
    "check_critical_val = (1- sigma_2/sigma_1 - 2/(np.pi*dof))* \\\n",
    "np.sqrt(len(df['x'][np.where(labels==cluster_num)[0]])*dof/(2*(1-8/(np.pi**2*dof))))\n",
    "\n",
    "print(check_critical_val)\n",
    "\n",
    "## if yes then combine and update labels and compare again\n",
    "\n",
    "\n"
   ]
  },
  {
   "cell_type": "code",
   "execution_count": 107,
   "metadata": {},
   "outputs": [
    {
     "name": "stdout",
     "output_type": "stream",
     "text": [
      "0.11509597543562548 14.561712210923702\n",
      "0.04903577328810678 10.517774375900613\n",
      "0.0 inf\n"
     ]
    },
    {
     "name": "stderr",
     "output_type": "stream",
     "text": [
      "/home/hein/miniconda3/envs/py36/lib/python3.6/site-packages/ipykernel_launcher.py:12: RuntimeWarning: divide by zero encountered in double_scalars\n",
      "  if sys.path[0] == '':\n"
     ]
    },
    {
     "data": {
      "image/png": "[encoded data removed]",
      "text/plain": [
       "<Figure size 432x288 with 2 Axes>"
      ]
     },
     "metadata": {
      "needs_background": "light"
     },
     "output_type": "display_data"
    }
   ],
   "source": [
    "## just get the cluster with minimum variance in both directions\n",
    "\n",
    "\n",
    "\n",
    "for cluster_num in range(0,3):\n",
    "    \n",
    "#    print(np.mean(df['x'][np.where(labels==cluster_num)[0]]),np.var(df['x'][np.where(labels==cluster_num)[0]]))\n",
    "#    print(np.mean(df['y'][np.where(labels==cluster_num)[0]]),np.var(df['y'][np.where(labels==cluster_num)[0]]))    \n",
    "    \n",
    "    ## find best variance within clusters and choose the one with lowest\n",
    "    sigma_c = (np.var(df['x'][np.where(labels==cluster_num)[0]])+np.var(df['y'][np.where(labels==cluster_num)[0]]))/len(df['x'][np.where(labels==cluster_num)[0]])\n",
    "    sigma_d = np.sqrt(1/np.var(df['x'][np.where(labels==cluster_num)[0]]))+np.sqrt(1/np.var(df['y'][np.where(labels==cluster_num)[0]]))\n",
    "    \n",
    "    print(sigma_c,sigma_d)\n",
    "\n",
    "## plot the individual cluster variances    \n",
    "plt.subplot(1,2,1)    \n",
    "cluster_num=0\n",
    "plt.errorbar(df['x'][np.where(labels==cluster_num)[0]],\n",
    "             df['y'][np.where(labels==cluster_num)[0]],\n",
    "             xerr=np.std(df['x'][np.where(labels==cluster_num)[0]]),\n",
    "             yerr=np.std(df['y'][np.where(labels==cluster_num)[0]]),fmt='o', ecolor='r', capthick=2)\n",
    "\n",
    "plt.subplot(1,2,2)    \n",
    "cluster_num=1\n",
    "plt.errorbar(df['x'][np.where(labels==cluster_num)[0]],\n",
    "             df['y'][np.where(labels==cluster_num)[0]],\n",
    "             xerr=np.std(df['x'][np.where(labels==cluster_num)[0]]),\n",
    "             yerr=np.std(df['y'][np.where(labels==cluster_num)[0]]),fmt='o', ecolor='r', capthick=2)\n",
    "\n",
    "\n",
    "\n",
    "plt.show()\n",
    "\n",
    "## and then select the centroid\n"
   ]
  },
  {
   "cell_type": "markdown",
   "metadata": {},
   "source": [
    "\n",
    "\n",
    "We get the exact same result, albeit with the colours in a different order.\n",
    "\n",
    "Some things to take note of though:\n",
    "\n",
    "    k-means clustering is very sensitive to scale due to its reliance on Euclidean distance so be sure to normalize data if there are likely to be scaling problems.\n",
    "    If there are some symmetries in your data, some of the labels may be mis-labelled\n",
    "    It is recommended to do the same k-means with different initial centroids and take the most common label.\n",
    "\n",
    "\n",
    "\n"
   ]
  },
  {
   "cell_type": "code",
   "execution_count": 78,
   "metadata": {},
   "outputs": [
    {
     "data": {
      "image/png": "[encoded data removed]",
      "text/plain": [
       "<Figure size 360x360 with 1 Axes>"
      ]
     },
     "metadata": {
      "needs_background": "light"
     },
     "output_type": "display_data"
    }
   ],
   "source": [
    "fig = plt.figure(figsize=(5, 5))\n",
    "\n",
    "colors = map(lambda x: colmap[x+1], labels)\n",
    "\n",
    "plt.scatter(df['x'], df['y'], color=list(colors), alpha=0.5, edgecolor='k')\n",
    "for idx, centroid in enumerate(centroids):\n",
    "    plt.scatter(*centroid, color=colmap[idx+1])\n",
    "#plt.xlim(0, 80) \n",
    "#plt.ylim(0, 80)\n",
    "plt.show()"
   ]
  },
  {
   "cell_type": "code",
   "execution_count": 79,
   "metadata": {},
   "outputs": [
    {
     "data": {
      "text/plain": [
       "<matplotlib.collections.PathCollection at 0x7fd2f91a5ba8>"
      ]
     },
     "execution_count": 79,
     "metadata": {},
     "output_type": "execute_result"
    },
    {
     "data": {
      "image/png": "[encoded data removed]",
      "text/plain": [
       "<Figure size 432x288 with 1 Axes>"
      ]
     },
     "metadata": {
      "needs_background": "light"
     },
     "output_type": "display_data"
    }
   ],
   "source": [
    "plt.scatter(df['x'],df['y'])"
   ]
  },
  {
   "cell_type": "code",
   "execution_count": null,
   "metadata": {},
   "outputs": [],
   "source": []
  }
 ],
 "metadata": {
  "kernelspec": {
   "display_name": "Python 3",
   "language": "python",
   "name": "python3"
  },
  "language_info": {
   "codemirror_mode": {
    "name": "ipython",
    "version": 3
   },
   "file_extension": ".py",
   "mimetype": "text/x-python",
   "name": "python",
   "nbconvert_exporter": "python",
   "pygments_lexer": "ipython3",
   "version": "3.6.7"
  }
 },
 "nbformat": 4,
 "nbformat_minor": 2
}
