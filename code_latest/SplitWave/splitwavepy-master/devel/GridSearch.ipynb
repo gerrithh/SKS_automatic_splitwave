{
 "cells": [
  {
   "cell_type": "code",
   "execution_count": 2,
   "metadata": {
    "collapsed": true
   },
   "outputs": [],
   "source": [
    "import sys\n",
    "sys.path.append(\"..\")\n",
    "import splitwavepy as sw\n",
    "\n",
    "import numpy as np\n",
    "import matplotlib.pyplot as plt"
   ]
  },
  {
   "cell_type": "code",
   "execution_count": 13,
   "metadata": {},
   "outputs": [],
   "source": [
    "x = np.random.rand(500)\n",
    "y = np.random.rand(500)\n",
    "degs = np.arange(-90,90,2)\n",
    "slags = np.arange(0,50)\n",
    "window = sw.Window(51,0)"
   ]
  },
  {
   "cell_type": "code",
   "execution_count": 51,
   "metadata": {},
   "outputs": [],
   "source": [
    "def eigvalcov(data):\n",
    "    \"\"\"\n",
    "    return sorted eigenvalues of covariance matrix\n",
    "    lambda1 first, lambda2 second\n",
    "    \"\"\"\n",
    "    return np.sort(np.linalg.eigvalsh(np.cov(data)))\n",
    "\n",
    "def grideigval(x, y, degs, slags, window, **kwargs):\n",
    "    \"\"\"\n",
    "    Grid search for splitting parameters applied to data.\n",
    "    \n",
    "    lags = 1-D array of sample shifts to search over, if None an attempt at finding sensible values is made\n",
    "    degs = 1-D array of rotations to search over, if None an attempt at finding sensible values is made\n",
    "    window = Window object (if None will guess an appropriate window)\n",
    "    rcvcorr = receiver correction parameters in tuple (fast,lag) \n",
    "    srccorr = source correction parameters in tuple (fast,lag) \n",
    "    \"\"\"\n",
    "    \n",
    "    # if 'pol' in kwargs:\n",
    "    #     def silverchan(x,y):\n",
    "    #         # measure energy on components\n",
    "    #         ux, uy = rotate(ux,uy,-degs[0,ii]+pol)\n",
    "    #         return transenergy(ux,uy)\n",
    "    # else:\n",
    "    #     def silverchan(x,y):\n",
    "    #         return\n",
    "                                 \n",
    "    # grid of degs and lags to search over\n",
    "    degs, lags = np.meshgrid(degs,slags)\n",
    "    shape = degs.shape\n",
    "    lam1 = np.zeros(shape)\n",
    "    lam2 = np.zeros(shape)\n",
    "#     cov = np.zeros(3,3,shape)\n",
    "    \n",
    "    # avoid using \"dots\" in loops for performance\n",
    "    rotate = sw.core.rotate\n",
    "    lag = sw.core.lag\n",
    "    chop = sw.core.chop\n",
    "    cov = np.cov\n",
    "    vstack = np.vstack\n",
    "    \n",
    "#     covstack\n",
    "    \n",
    "    for ii in np.arange(shape[1]):\n",
    "        tx, ty = rotate(x,y,degs[0,ii])\n",
    "        for jj in np.arange(shape[0]):\n",
    "            # remove splitting so use inverse operator (negative lag)\n",
    "            ux, uy = lag(tx,ty,-lags[jj,ii])\n",
    "            # chop to analysis window\n",
    "            ux, uy = chop(ux,uy,window=window)\n",
    "            # measure eigenvalues of covariance matrix\n",
    "#             covstack = cov(vstack((ux,uy)))\n",
    "#             lam2[jj,ii], lam1[jj,ii] = eigvalcov(np.vstack((ux,uy)))\n",
    "            np.cov(np.vstack((ux,uy)))\n",
    "#             pass\n",
    "#     eigvals = np.linalg.eigvalsh(cov)\n",
    "            \n",
    "#     return degs,lags,lam1,lam2"
   ]
  },
  {
   "cell_type": "code",
   "execution_count": 52,
   "metadata": {},
   "outputs": [
    {
     "name": "stdout",
     "output_type": "stream",
     "text": [
      "1 loop, best of 3: 199 ms per loop\n"
     ]
    }
   ],
   "source": [
    "%timeit grideigval(x,y,degs,slags,window)"
   ]
  },
  {
   "cell_type": "code",
   "execution_count": null,
   "metadata": {
    "collapsed": true
   },
   "outputs": [],
   "source": []
  }
 ],
 "metadata": {
  "kernelspec": {
   "display_name": "Python 3",
   "language": "python",
   "name": "python3"
  },
  "language_info": {
   "codemirror_mode": {
    "name": "ipython",
    "version": 3
   },
   "file_extension": ".py",
   "mimetype": "text/x-python",
   "name": "python",
   "nbconvert_exporter": "python",
   "pygments_lexer": "ipython3",
   "version": "3.5.3"
  }
 },
 "nbformat": 4,
 "nbformat_minor": 2
}
