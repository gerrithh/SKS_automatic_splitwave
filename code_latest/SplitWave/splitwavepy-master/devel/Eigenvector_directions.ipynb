{
 "cells": [
  {
   "cell_type": "markdown",
   "metadata": {},
   "source": [
    "## We always use the eigenvalues, but is there information to be gleened from the eigenvectors?"
   ]
  },
  {
   "cell_type": "code",
   "execution_count": 1,
   "metadata": {
    "collapsed": true
   },
   "outputs": [],
   "source": [
    "import splitting as s\n",
    "import numpy as np\n",
    "import matplotlib.pyplot as plt"
   ]
  },
  {
   "cell_type": "code",
   "execution_count": 32,
   "metadata": {
    "collapsed": true
   },
   "outputs": [],
   "source": [
    "def _grideig(data, maxlag=None, window=None, stepang=None, steplag=None):\n",
    "\n",
    "    # set some defaults\n",
    "    if maxlag is None:\n",
    "        maxlag = int(data[0].size / 10)\n",
    "        maxlag = maxlag if maxlag%2==0 else maxlag + 1\n",
    "    if steplag is None:\n",
    "        steplag = 2 * int(np.max([1,maxlag/80]))\n",
    "    if stepang is None:\n",
    "        stepang = 2\n",
    "    if window is None:\n",
    "        # by default whatevers smaller,\n",
    "        # half trace length or 10 * max shift\n",
    "        # ensure window is odd length\n",
    "        window = int(np.min([data.shape[1] * 0.5,maxlag * 10]))\n",
    "        window = window if window%2==1 else window + 1\n",
    "\n",
    "    degs, lags = np.meshgrid(np.arange(0,180,stepang),\n",
    "                             np.arange(0,maxlag,steplag).astype(int))\n",
    "\n",
    "    shape = degs.shape\n",
    "    lam1 = np.zeros(shape)\n",
    "    lam2 = np.zeros(shape)\n",
    "    vec1 = np.zeros(shape)\n",
    "    for ii in np.arange(shape[1]):\n",
    "        temp = s.rotate(data,degs[0,ii])\n",
    "        for jj in np.arange(shape[0]):\n",
    "            # remove splitting so use inverse operator (negative lag)\n",
    "            temp2 = s.lag(temp,-lags[jj,ii])\n",
    "            temp3 = s.window(temp2,window)\n",
    "            eigenValues, eigenVectors = np.linalg.eig(np.cov(temp3))\n",
    "            # which is big?\n",
    "            idx = eigenValues.argsort()[::-1]   \n",
    "            eigenValues = eigenValues[idx]\n",
    "            eigenVectors = eigenVectors[:,idx]\n",
    "            lam1[jj,ii], lam2[jj,ii] = eigenValues\n",
    "            vec1[jj,ii] = np.rad2deg(np.arctan2(eigenVectors[1,0],eigenVectors[0,0]))\n",
    "                      \n",
    "    return data,degs,lags,lam1,lam2,vec1,window"
   ]
  },
  {
   "cell_type": "code",
   "execution_count": 44,
   "metadata": {},
   "outputs": [],
   "source": [
    "data,degs,lags,lam1,lam2,vec1,window = _grideig(s.split(s.synth(),30,20))"
   ]
  },
  {
   "cell_type": "code",
   "execution_count": 45,
   "metadata": {},
   "outputs": [
    {
     "data": {
      "image/png": "[encoded data removed]",
      "text/plain": [
       "<matplotlib.figure.Figure at 0x10a8a8d68>"
      ]
     },
     "metadata": {},
     "output_type": "display_data"
    }
   ],
   "source": [
    "plt.contourf(lags,degs,lam1/lam2,cmap='magma')\n",
    "plt.show()"
   ]
  },
  {
   "cell_type": "code",
   "execution_count": 46,
   "metadata": {},
   "outputs": [
    {
     "data": {
      "image/png": "[encoded data removed]",
      "text/plain": [
       "<matplotlib.figure.Figure at 0x10a6d17f0>"
      ]
     },
     "metadata": {},
     "output_type": "display_data"
    }
   ],
   "source": [
    "plt.contourf(lags,degs,vec1,cmap='hsv')\n",
    "plt.show()"
   ]
  },
  {
   "cell_type": "code",
   "execution_count": 22,
   "metadata": {},
   "outputs": [
    {
     "name": "stderr",
     "output_type": "stream",
     "text": [
      "/Users/glyjw/anaconda/envs/py35/lib/python3.5/site-packages/scipy/linalg/basic.py:1018: RuntimeWarning: internal gelsd driver lwork query error, required iwork dimension not returned. This is likely the result of LAPACK bug 0038, fixed in LAPACK 3.2.2 (released July 21, 2010). Falling back to 'gelss' driver.\n",
      "  warnings.warn(mesg, RuntimeWarning)\n"
     ]
    }
   ],
   "source": [
    "M = s.eigval.grideigval(s.synth())"
   ]
  },
  {
   "cell_type": "code",
   "execution_count": 23,
   "metadata": {},
   "outputs": [
    {
     "data": {
      "image/png": "[encoded data removed]",
      "text/plain": [
       "<matplotlib.figure.Figure at 0x10a1a5c50>"
      ]
     },
     "metadata": {},
     "output_type": "display_data"
    }
   ],
   "source": [
    "M.plot()"
   ]
  },
  {
   "cell_type": "code",
   "execution_count": null,
   "metadata": {
    "collapsed": true
   },
   "outputs": [],
   "source": []
  }
 ],
 "metadata": {
  "kernelspec": {
   "display_name": "Python 3",
   "language": "python",
   "name": "python3"
  },
  "language_info": {
   "codemirror_mode": {
    "name": "ipython",
    "version": 3
   },
   "file_extension": ".py",
   "mimetype": "text/x-python",
   "name": "python",
   "nbconvert_exporter": "python",
   "pygments_lexer": "ipython3",
   "version": "3.5.3"
  }
 },
 "nbformat": 4,
 "nbformat_minor": 2
}
