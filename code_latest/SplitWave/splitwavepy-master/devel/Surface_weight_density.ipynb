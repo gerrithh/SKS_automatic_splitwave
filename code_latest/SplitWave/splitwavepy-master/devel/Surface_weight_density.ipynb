{
 "cells": [
  {
   "cell_type": "code",
   "execution_count": 15,
   "metadata": {
    "collapsed": true
   },
   "outputs": [],
   "source": [
    "%matplotlib inline\n",
    "import numpy as np\n",
    "from scipy import stats\n",
    "import matplotlib.pyplot as plt\n"
   ]
  },
  {
   "cell_type": "code",
   "execution_count": 119,
   "metadata": {
    "collapsed": true
   },
   "outputs": [],
   "source": [
    "\n",
    "\n",
    "def pol2cart(deg,r):\n",
    "    \"\"\"\n",
    "    convert angle from deg, r to x, y\n",
    "    \"\"\"\n",
    "    x = r * np.sin(np.deg2rad(deg))\n",
    "    y = r * np.cos(np.deg2rad(deg))\n",
    "    return x, y\n",
    "    "
   ]
  },
  {
   "cell_type": "code",
   "execution_count": 120,
   "metadata": {
    "collapsed": true
   },
   "outputs": [],
   "source": [
    "\n",
    "deg, lag = np.meshgrid(np.linspace(-180,180,91),\n",
    "                       np.arange(-10*2,11*2,4).astype(int))\n",
    "positions = np.vstack((deg.ravel(),lag.ravel()))\n",
    "values = positions\n",
    "kernel = stats.gaussian_kde(values)\n",
    "Z = np.reshape(kernel(positions).T,deg.shape)"
   ]
  },
  {
   "cell_type": "code",
   "execution_count": 121,
   "metadata": {},
   "outputs": [
    {
     "data": {
      "image/png": "[encoded data removed]",
      "text/plain": [
       "<matplotlib.figure.Figure at 0x12b2563c8>"
      ]
     },
     "metadata": {},
     "output_type": "display_data"
    }
   ],
   "source": [
    "xmin=lag.min()\n",
    "xmax=lag.max()\n",
    "ymin=deg.min()\n",
    "ymax=deg.max()\n",
    "\n",
    "import matplotlib.pyplot as plt\n",
    "fig, ax = plt.subplots()\n",
    "ax.imshow(np.rot90(Z), cmap='viridis',extent=[xmin, xmax, ymin, ymax])\n",
    "# ax.plot(lag, deg, 'k.', markersize=2)\n",
    "# ax.set_xlim([xmin, xmax])\n",
    "# ax.set_ylim([ymin, ymax])\n",
    "plt.show()\n"
   ]
  },
  {
   "cell_type": "code",
   "execution_count": 130,
   "metadata": {},
   "outputs": [
    {
     "data": {
      "image/png": "[encoded data removed]",
      "text/plain": [
       "<matplotlib.figure.Figure at 0x12b2536d8>"
      ]
     },
     "metadata": {},
     "output_type": "display_data"
    }
   ],
   "source": [
    "x,y = pol2cart(2*deg,lag)\n",
    "\n",
    "xmin=x.min()\n",
    "xmax=x.max()\n",
    "ymin=y.min()\n",
    "ymax=y.max()\n",
    "\n",
    "positions = np.vstack((x.ravel(),y.ravel()))\n",
    "values = positions\n",
    "kernel = stats.gaussian_kde(values)\n",
    "Z = np.reshape(kernel(positions),x.shape)\n",
    "\n",
    "fig, ax = plt.subplots()\n",
    "plt.contourf(x,y,Z, cmap='viridis',extent=[xmin, xmax, ymin, ymax])\n",
    "# ax.plot(x, y, 'k.', markersize=2)\n",
    "# ax.set_xlim([xmin, xmax])\n",
    "# ax.set_ylim([ymin, ymax])\n",
    "plt.show()"
   ]
  },
  {
   "cell_type": "code",
   "execution_count": 123,
   "metadata": {},
   "outputs": [
    {
     "data": {
      "text/plain": [
       "[<matplotlib.lines.Line2D at 0x12b42ab38>]"
      ]
     },
     "execution_count": 123,
     "metadata": {},
     "output_type": "execute_result"
    },
    {
     "data": {
      "image/png": "[encoded data removed]",
      "text/plain": [
       "<matplotlib.figure.Figure at 0x12b181b70>"
      ]
     },
     "metadata": {},
     "output_type": "display_data"
    }
   ],
   "source": [
    "plt.plot(x.ravel(),y.ravel(),'ro',ms=.5)"
   ]
  },
  {
   "cell_type": "code",
   "execution_count": 103,
   "metadata": {},
   "outputs": [
    {
     "data": {
      "text/plain": [
       "(3801,)"
      ]
     },
     "execution_count": 103,
     "metadata": {},
     "output_type": "execute_result"
    }
   ],
   "source": [
    "lag.ravel().shape"
   ]
  },
  {
   "cell_type": "code",
   "execution_count": 66,
   "metadata": {},
   "outputs": [
    {
     "data": {
      "text/plain": [
       "array([[-40, -40, -40, ..., -40, -40, -40],\n",
       "       [-38, -38, -38, ..., -38, -38, -38],\n",
       "       [-36, -36, -36, ..., -36, -36, -36],\n",
       "       ..., \n",
       "       [ 74,  74,  74, ...,  74,  74,  74],\n",
       "       [ 76,  76,  76, ...,  76,  76,  76],\n",
       "       [ 78,  78,  78, ...,  78,  78,  78]])"
      ]
     },
     "execution_count": 66,
     "metadata": {},
     "output_type": "execute_result"
    }
   ],
   "source": [
    "lag"
   ]
  },
  {
   "cell_type": "code",
   "execution_count": 128,
   "metadata": {},
   "outputs": [
    {
     "data": {
      "text/plain": [
       "1001"
      ]
     },
     "execution_count": 128,
     "metadata": {},
     "output_type": "execute_result"
    }
   ],
   "source": [
    "lag.size"
   ]
  },
  {
   "cell_type": "code",
   "execution_count": 137,
   "metadata": {},
   "outputs": [
    {
     "data": {
      "text/plain": [
       "[<matplotlib.lines.Line2D at 0x12ba74d68>]"
      ]
     },
     "execution_count": 137,
     "metadata": {},
     "output_type": "execute_result"
    },
    {
     "data": {
      "image/png": "[encoded data removed]",
      "text/plain": [
       "<matplotlib.figure.Figure at 0x12b795668>"
      ]
     },
     "metadata": {},
     "output_type": "display_data"
    }
   ],
   "source": [
    "plt.plot(x[0,:],Z[0,:],'ro')"
   ]
  },
  {
   "cell_type": "code",
   "execution_count": 12,
   "metadata": {
    "collapsed": true
   },
   "outputs": [],
   "source": [
    "def rho(n,step):\n",
    "    if n == 0:\n",
    "        return 1 / (np.pi/4 * step**2)\n",
    "    elif n > 0:\n",
    "        return 1 / (2 * np.pi * n * step)\n",
    "    else:\n",
    "        raise Exception('n not valid')\n",
    "        \n",
    "rho = np.vectorize(rho)"
   ]
  },
  {
   "cell_type": "code",
   "execution_count": 16,
   "metadata": {},
   "outputs": [
    {
     "data": {
      "text/plain": [
       "[<matplotlib.lines.Line2D at 0x10c751c88>]"
      ]
     },
     "execution_count": 16,
     "metadata": {},
     "output_type": "execute_result"
    },
    {
     "data": {
      "image/png": "[encoded data removed]",
      "text/plain": [
       "<matplotlib.figure.Figure at 0x10c6c4898>"
      ]
     },
     "metadata": {},
     "output_type": "display_data"
    }
   ],
   "source": [
    "lags = np.arange(50)\n",
    "rhos = rho(lags,1)\n",
    "plt.plot(lags,rhos)"
   ]
  },
  {
   "cell_type": "code",
   "execution_count": null,
   "metadata": {
    "collapsed": true
   },
   "outputs": [],
   "source": []
  }
 ],
 "metadata": {
  "kernelspec": {
   "display_name": "Python 3",
   "language": "python",
   "name": "python3"
  },
  "language_info": {
   "codemirror_mode": {
    "name": "ipython",
    "version": 3
   },
   "file_extension": ".py",
   "mimetype": "text/x-python",
   "name": "python",
   "nbconvert_exporter": "python",
   "pygments_lexer": "ipython3",
   "version": "3.5.3"
  }
 },
 "nbformat": 4,
 "nbformat_minor": 2
}
