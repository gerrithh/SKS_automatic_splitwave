{
 "cells": [
  {
   "cell_type": "code",
   "execution_count": 1,
   "metadata": {},
   "outputs": [
    {
     "data": {
      "text/html": [
       "<style>.container { width:75% !important; }</style>"
      ],
      "text/plain": [
       "<IPython.core.display.HTML object>"
      ]
     },
     "metadata": {},
     "output_type": "display_data"
    }
   ],
   "source": [
    "## Process AlpArray Switzerland for SKS-Splitting\n",
    "## Gerrit Hein\n",
    "######################################################\n",
    "######### LOAD IN THE MODULES\n",
    "######################################################\n",
    "from IPython.core.display import display, HTML\n",
    "display(HTML(\"<style>.container { width:75% !important; }</style>\"))\n",
    "\n",
    "import matplotlib.pyplot as plt\n",
    "import numpy as np\n",
    "\n",
    "import os\n",
    "import obspy\n",
    "from obspy import read\n",
    "from obspy.clients.fdsn import Client\n",
    "from obspy import UTCDateTime\n",
    "from obspy.taup import TauPyModel\n",
    "from obspy.geodetics.base import gps2dist_azimuth\n",
    "from obspy.geodetics import locations2degrees\n",
    "from obspy.taup import plot_travel_times\n",
    "from obspy.geodetics import locations2degrees\n",
    "from obspy.signal.rotate import rotate_ne_rt\n",
    "from obspy.signal.polarization import particle_motion_odr\n",
    "\n",
    "import matplotlib.gridspec as gridspec\n",
    "from scipy.optimize import curve_fit\n",
    "\n",
    "from tqdm import tqdm\n",
    "import time\n",
    "import multiprocessing\n",
    "\n",
    "import splitwavepy as sw\n",
    "######################################################\n",
    "### \n",
    "######################################################\n",
    "\n",
    "\n",
    "### check for maximum value in window to identify real SKS Phase\n",
    "### write out windows of waveforms..\n",
    "### Plot all three channels with several incidence times\n",
    "### Make a proper work flow:\n",
    "### data exists? Any gaps or spikes?\n",
    "\n",
    "## Parameters used in Walpols Study: \n",
    "## SKS epicentral distance between 95 < delta < 145° \n",
    "## distance from wikipedia: 60-141°\n",
    "## SNR ratio >16\n",
    "## weighted by SNR \n",
    "## Butterworth 0.02-0.1 Hz\n",
    "## arrival time window between -15,-5 to +15,+30 s\n",
    "## use eigenvalue method from silver and chan and cross correlation from Andow\n",
    "## if both disagree by 45° --> Null measurements\n",
    "## randomly sample and inspect for QC\n",
    "## lambda2/lambda1 <0.025 (postcorrection), the smaller the fraction, the greater the linear particle motion\n",
    "## SPOL-BAZ ??\n"
   ]
  },
  {
   "cell_type": "markdown",
   "metadata": {},
   "source": [
    "# Check available Swiss Stations: Total 247"
   ]
  },
  {
   "cell_type": "code",
   "execution_count": 2,
   "metadata": {},
   "outputs": [],
   "source": [
    "###############################################################\n",
    "######### CHECK STATIONS AND EVENT CATALOGUE\n",
    "###############################################################\n",
    "client = Client(\"ETH\") # ORFEUS\n",
    "station= '*'\n",
    "starttime = UTCDateTime(\"2000-01-01T00:00:00.000\")\n",
    "endtime = UTCDateTime(\"2018-12-31T00:00:00.000\")\n",
    "\n",
    "inventory = client.get_stations(network=\"CH\", station=station, starttime=starttime, endtime=endtime)\n",
    "\n",
    "## Total number of 247 available Stations\n",
    "#print(len(inventory[0]))\n",
    "\n",
    "stationlist = inventory[0]\n",
    "station = stationlist[10]\n",
    "# print(station)\n",
    "# print(station.code)\n",
    "# print(station.longitude)\n",
    "# print(station.latitude)\n",
    "# print(station.elevation)\n",
    "# print(station.start_date)\n",
    "# print(station.end_date)"
   ]
  },
  {
   "cell_type": "code",
   "execution_count": 3,
   "metadata": {},
   "outputs": [
    {
     "name": "stderr",
     "output_type": "stream",
     "text": [
      "/home/hein/miniconda3/envs/py27/lib/python2.7/site-packages/obspy/io/ndk/core.py:192: ObsPyNDKWarning: Skipped last 4 lines. Not a multiple of 5 lines.\n",
      "  warnings.warn(msg, ObsPyNDKWarning)\n"
     ]
    }
   ],
   "source": [
    "## 1. get events catalogue\n",
    "## events after 1999\n",
    "#cat = obspy.read_events(\"/home/hein/Dropbox/PhD/code_PhD/qcmt.ndk\")\n",
    "#cat2 = cat.filter(\"time > 2000-01-01T00:00\", \"magnitude >= 5.5\", \"depth <= 10000\")\n",
    "#cat2.write(\"/home/hein/Dropbox/PhD/code_PhD/qcmt_edit.cmt\",format=\"CMTSOLUTION\")\n",
    "\n",
    "cat = obspy.read_events(\"/home/hein/Dropbox/PhD/code_PhD/qcmt.ndk\")\n",
    "#cat = cat.filter(\"time > {0}\".format(station.start_date),\"time < 2018-12-01T00:00:00\")\n",
    "cat = cat.filter(\"time > 2000-01-01T00:00\",\"time < 2018-12-01T00:00:00\")\n",
    "#print(cat)\n",
    "###############################################################"
   ]
  },
  {
   "cell_type": "markdown",
   "metadata": {},
   "source": [
    "# REDUCE Catalogue to only Strong Events > Mw7, from epicentral distances between 95-145°\n",
    "#95- ?\n",
    "## Long_list contains:\n",
    "### Station code, start_date, lat, lon, event_time, event_lat,event_lon, depth)"
   ]
  },
  {
   "cell_type": "code",
   "execution_count": 4,
   "metadata": {},
   "outputs": [
    {
     "name": "stderr",
     "output_type": "stream",
     "text": [
      "/home/hein/miniconda3/envs/py27/lib/python2.7/site-packages/obspy/io/cmtsolution/core.py:368: UserWarning: No body wave magnitude found. Will be replaced by the first magnitude in the event object.\n",
      "  warnings.warn(\"No body wave magnitude found. Will be replaced by the \"\n"
     ]
    }
   ],
   "source": [
    "\n",
    "cat_m7 = cat.filter(\"magnitude >= 7.0\")\n",
    "cat_m7.write(\"/home/hein/Dropbox/PhD/code_PhD/qcmt_edit.cmt\",format=\"CMTSOLUTION\")\n",
    "\n",
    "#print(cat_m7)\n",
    "\n",
    "counter = 0\n",
    "long_list = []\n",
    "\n",
    "for ev in cat_m7:    \n",
    "    event1 = ev\n",
    "    ### Event parameters\n",
    "    orig  = event1.origins\n",
    "\n",
    "    mag = event1.magnitudes[0]\n",
    "    \n",
    "    for station in stationlist:        \n",
    "        ### check if station has recorded before event \n",
    "        if (float(station.start_date)<float(orig[0].time)) and (station.end_date == None):\n",
    "\n",
    "\n",
    "            dist_deg = locations2degrees(orig[0].latitude, orig[0].longitude,\n",
    "                           station.latitude, station.longitude)\n",
    "            ## check wheter distance is in the right range            \n",
    "            if (dist_deg>95) and (dist_deg<145):\n",
    "                counter +=1\n",
    "\n",
    "                tmp = [counter, str(station.code), station.start_date, station.latitude,\n",
    "                                              station.longitude, orig[0].time,\n",
    "                                    orig[0].latitude, orig[0].longitude, orig[0].depth, mag.mag, dist_deg]\n",
    "                long_list.append(tmp)\n",
    "\n",
    "\n",
    "\n",
    "\n",
    "#np.savetxt(\"/media/hein/home2/SplitWave_Data/m7_stat_list.csv\", long_list, delimiter=', ', header='New Data', comments='# ')\n",
    "\n",
    "# print(stationlist[0])\n",
    "# print('Station',long_list[0][1])\n",
    "# print('event',long_list[0][5])\n",
    "# print('event',long_list[0][8])\n",
    "# print(len(long_list[:]))\n"
   ]
  },
  {
   "cell_type": "markdown",
   "metadata": {},
   "source": [
    "# Skript to automatically download Waveforms from available Earthquakes (done)\n"
   ]
  },
  {
   "cell_type": "code",
   "execution_count": 5,
   "metadata": {},
   "outputs": [
    {
     "name": "stdout",
     "output_type": "stream",
     "text": [
      "/media/hein/home2/SplitWave_Data\n"
     ]
    },
    {
     "ename": "NameError",
     "evalue": "name 'read_station_event_data' is not defined",
     "output_type": "error",
     "traceback": [
      "\u001b[0;31m---------------------------------------------------------------------------\u001b[0m",
      "\u001b[0;31mNameError\u001b[0m                                 Traceback (most recent call last)",
      "\u001b[0;32m<ipython-input-5-6c658c0c8ff2>\u001b[0m in \u001b[0;36m<module>\u001b[0;34m()\u001b[0m\n\u001b[1;32m     10\u001b[0m \u001b[0mstation\u001b[0m \u001b[0;34m=\u001b[0m \u001b[0mnew_stat_list\u001b[0m\u001b[0;34m[\u001b[0m\u001b[0;36m0\u001b[0m\u001b[0;34m]\u001b[0m\u001b[0;34m\u001b[0m\u001b[0m\n\u001b[1;32m     11\u001b[0m \u001b[0;34m\u001b[0m\u001b[0m\n\u001b[0;32m---> 12\u001b[0;31m \u001b[0mst_ev\u001b[0m\u001b[0;34m,\u001b[0m\u001b[0mst_lat_l\u001b[0m\u001b[0;34m,\u001b[0m\u001b[0mst_lon_l\u001b[0m\u001b[0;34m,\u001b[0m\u001b[0mev_lat_l\u001b[0m\u001b[0;34m,\u001b[0m\u001b[0mev_lon_l\u001b[0m\u001b[0;34m,\u001b[0m\u001b[0mev_time_l\u001b[0m\u001b[0;34m,\u001b[0m\u001b[0mev_depth_l\u001b[0m\u001b[0;34m,\u001b[0m\u001b[0mev_mag_l\u001b[0m\u001b[0;34m,\u001b[0m\u001b[0mev_dist_l\u001b[0m\u001b[0;34m,\u001b[0m\u001b[0mback_azimut_l\u001b[0m\u001b[0;34m,\u001b[0m \u001b[0mt_SKS_l\u001b[0m\u001b[0;34m,\u001b[0m\u001b[0mt_SKKS_l\u001b[0m\u001b[0;34m,\u001b[0m\u001b[0mt_PP_l\u001b[0m \u001b[0;34m=\u001b[0m \u001b[0mread_station_event_data\u001b[0m\u001b[0;34m(\u001b[0m\u001b[0mstation\u001b[0m\u001b[0;34m)\u001b[0m\u001b[0;34m\u001b[0m\u001b[0m\n\u001b[0m\u001b[1;32m     13\u001b[0m \u001b[0;31m### go through stations\u001b[0m\u001b[0;34m\u001b[0m\u001b[0;34m\u001b[0m\u001b[0m\n\u001b[1;32m     14\u001b[0m \u001b[0;31m### and collect waveforms of same event\u001b[0m\u001b[0;34m\u001b[0m\u001b[0;34m\u001b[0m\u001b[0m\n",
      "\u001b[0;31mNameError\u001b[0m: name 'read_station_event_data' is not defined"
     ]
    }
   ],
   "source": [
    "save_loc = '/media/hein/home2/SplitWave_Data'\n",
    "\n",
    "FMT = 'SAC'\n",
    "Splitting_windows = True\n",
    "plot_SplitW = False\n",
    "print(save_loc)\n",
    "new_stat_list = os.listdir(save_loc) ## Get A list of downloaded Stations\n",
    "\n",
    "start_time = time.time()\n",
    "station = new_stat_list[0]\n",
    "\n",
    "st_ev,st_lat_l,st_lon_l,ev_lat_l,ev_lon_l,ev_time_l,ev_depth_l,ev_mag_l,ev_dist_l,back_azimut_l, t_SKS_l,t_SKKS_l,t_PP_l = read_station_event_data(station)\n",
    "### go through stations\n",
    "### and collect waveforms of same event\n",
    "\n",
    "#nstation = 0\n",
    "nevent =1\n",
    "\n",
    "ev_time  = ev_time_l[nevent]\n",
    "ev_lon = ev_lon_l[nevent]\n",
    "ev_lat = ev_lat_l[nevent]\n",
    "\n",
    "\n",
    "st_Z = obspy.Stream()\n",
    "st_XYZ = obspy.Stream()\n",
    "\n",
    "tr_distance = []\n",
    "t_SKS_arr = []\n",
    "t_SKKS_arr = []\n",
    "st_lats = []\n",
    "st_lons = []\n",
    "time_shift = []\n",
    "count = 0\n",
    "\n",
    "for station in new_stat_list:\n",
    "    st_ev,st_lat_l,st_lon_l,ev_lat_l,ev_lon_l,ev_time_l,ev_depth_l,ev_mag_l,ev_dist_l,back_azimut_l, t_SKS_l,t_SKKS_l,t_PP_l = read_station_event_data(station)\n",
    "    for event_t in ev_time_l:\n",
    "        if ev_time==event_t:\n",
    "#            print(st_ev[0])\n",
    "\n",
    "#            st_Z += st_ev[nevent*3]\n",
    "            max_startt = st_ev[nevent*3].stats.starttime\n",
    "            for i in range(0,3):               \n",
    "                if float(st_ev[nevent+i].stats.starttime)>=float(max_startt):\n",
    "                    max_startt=st_ev[nevent+i].stats.starttime\n",
    "            \n",
    "            min_npts = st_ev[nevent*3].stats.npts\n",
    "            for i in range(0,3):               \n",
    "                if st_ev[nevent+i].stats.npts<=min_npts:\n",
    "                    min_npts=st_ev[nevent+i].stats.npts\n",
    "                    imin = i\n",
    "            \n",
    "            \n",
    "            st_XYZ = st_ev[nevent*3:3*nevent+3]\n",
    "\n",
    "            st_XYZ = st_XYZ.slice(max_startt+60,max_startt+3500,nearest_sample=True)\n",
    "            print(st_XYZ)\n",
    "            time_shift.append(float(st_XYZ[0].stats.starttime)-float(st_XYZ[1].stats.starttime))\n",
    "            print(st_XYZ)    \n",
    "            st_Z +=st_XYZ[imin]\n",
    "            st_Z[count].data = np.sqrt(st_XYZ[0].data**2+st_XYZ[1].data**2)\n",
    "            count+=1\n",
    "\n",
    "        ### check that they start at the same time\n",
    "    \n",
    "            st_lats.append(st_lat_l[0])\n",
    "            st_lons.append(st_lon_l[0])        \n",
    "        \n",
    "#            tmp = gps2dist_azimuth(st_lat_l[0], st_lon_l[0], ev_lat, ev_lon)[0]\n",
    "            tmp = locations2degrees(st_lat_l[0], st_lon_l[0], ev_lat, ev_lon)\n",
    "            tr_distance.append(tmp)\n",
    "            t_SKS_arr.append(t_SKS_l[nevent])\n",
    "            t_SKKS_arr.append(t_SKKS_l[nevent])            \n",
    "\n",
    "print(st_Z)\n",
    "print(\"--- %s seconds ---\" % (time.time() - start_time))\n",
    "\n",
    "print(t_SKS_arr, tr_distance)"
   ]
  },
  {
   "cell_type": "code",
   "execution_count": null,
   "metadata": {},
   "outputs": [],
   "source": [
    "def plot_travel_times_mod(source_depth, phase_list=(\"ttbasic\",), min_degrees=0,\n",
    "                      max_degrees=180, npoints=50, model='iasp91',\n",
    "                      plot_all=True, legend=True, verbose=False, fig=None,\n",
    "                      ax=None, show=True):\n",
    "    \"\"\"\n",
    "    Returns a travel time plot and any created axis instance of this\n",
    "    plot.\n",
    "\n",
    "    :param source_depth: Source depth in kilometers.\n",
    "    :type source_depth: float\n",
    "    :param min_degrees: minimum distance from the source (in degrees)\n",
    "    :type min_degrees: float\n",
    "    :param max_degrees: maximum distance from the source (in degrees)\n",
    "    :type max_degrees: float\n",
    "    :param npoints: Number of points to plot.\n",
    "    :type npoints: int\n",
    "    :param phase_list: List of phase names to plot.\n",
    "    :type phase_list: list of str, optional\n",
    "    :param model: string containing the model to use.\n",
    "    :type model: str\n",
    "    :param plot_all: By default all rays, even those travelling in the\n",
    "        other direction and thus arriving at a distance of *360 - x*\n",
    "        degrees are shown. Set this to ``False`` to only show rays\n",
    "        arriving at exactly *x* degrees.\n",
    "    :type plot_all: bool\n",
    "    :param legend: Whether or not to show the legend\n",
    "    :type legend: bool\n",
    "    :param verbose: Whether to print information about epicentral distances\n",
    "        that did not have an arrival.\n",
    "    :type verbose: bool\n",
    "    :param fig: Figure to plot in. If not given, a new figure instance\n",
    "        will be created.\n",
    "    :type fig: :class:`matplotlib.axes.Axes\n",
    "    :param ax: Axes to plot in. If not given, a new figure with an axes\n",
    "        will be created.\n",
    "    param show: Show the plot.\n",
    "    type show: bool\n",
    "    :type ax: :class:`matplotlib.Figure.figure`\n",
    "    :returns: ax\n",
    "    :rtype: :class:`matplotlib.axes.Axes`\n",
    "\n",
    "    .. rubric:: Example\n",
    "\n",
    "    >>> from obspy.taup import plot_travel_times\n",
    "    >>> ax = plot_travel_times(source_depth=10, phase_list=['P', 'S', 'PP'])\n",
    "\n",
    "    .. plot::\n",
    "\n",
    "        from obspy.taup import plot_travel_times\n",
    "        ax = plot_travel_times(source_depth=10, phase_list=['P','S','PP'])\n",
    "    \"\"\"\n",
    "    import matplotlib.pyplot as plt\n",
    "\n",
    "    # compute the requested arrivals:\n",
    "    model = TauPyModel(model)\n",
    "\n",
    "    # a list of epicentral distances without a travel time, and a flag:\n",
    "    notimes = []\n",
    "    plotted = False\n",
    "\n",
    "    # calculate the arrival times and plot vs. epicentral distance:\n",
    "    degrees = np.linspace(min_degrees, max_degrees, npoints)\n",
    "    for degree in degrees:\n",
    "        try:\n",
    "            arrivals = model.get_ray_paths(source_depth, degree,\n",
    "                                           phase_list=phase_list)\n",
    "            ax = arrivals.plot_times(phase_list=phase_list, show=False,\n",
    "                                     ax=ax, plot_all=plot_all)\n",
    "            plotted = True\n",
    "        except ValueError:\n",
    "            notimes.append(degree)\n",
    "\n",
    "    if plotted:\n",
    "        if verbose:\n",
    "            if len(notimes) == 1:\n",
    "                tmpl = \"There was {} epicentral distance without an arrival\"\n",
    "            else:\n",
    "                tmpl = \"There were {} epicentral distances without an arrival\"\n",
    "            print(tmpl.format(len(notimes)))\n",
    "    else:\n",
    "        raise ValueError(\"No arrival times to plot.\")\n",
    "\n",
    "    if legend:\n",
    "        # merge all arrival labels of a certain phase:\n",
    "        handles, labels = ax.get_legend_handles_labels()\n",
    "        labels, ids = np.unique(labels, return_index=True)\n",
    "        handles = [handles[i] for i in ids]\n",
    "        ax.fill_between([95,145],[23,23],[28,28],color='gray', alpha=0.25, label='SKS-Window')\n",
    "        ax.set_xlim(0,150)\n",
    "#        ax.set_xticks(0,150,10)\n",
    "        ax.legend(handles, labels, loc=2, numpoints=1)\n",
    "        ax.grid()\n",
    "        ax.plot(tr_distance,t_SKS_arr/60,'rx')\n",
    "    if show:\n",
    "        plt.show()\n",
    "    return ax\n",
    "\n",
    "ev_depth= ev_depth_l[nevent]\n",
    "\n",
    "tr_distance = np.asarray(tr_distance)\n",
    "t_SKS_arr = np.asarray(t_SKS_arr)\n",
    "\n",
    "## plot it bigger\n",
    "## plot picked arrivals from EQ\n",
    "plt.rcParams.update({'font.size': 22})\n",
    "mod = 'ak135' ##mod = 'iasp91'\n",
    "model = TauPyModel(model=mod)\n",
    "\n",
    "arrivals = model.get_travel_times(source_depth_in_km=ev_depth/1000,\n",
    "                                  distance_in_degree=np.mean(tr_distance),\n",
    "                                  phase_list=[\"P\", 'S',\"SKS\",'SKKS','PP'])\n",
    "#arrivals.plot()\n",
    "fig, ax = plt.subplots(figsize=(9, 9))\n",
    "ax = plot_travel_times_mod(source_depth=10, phase_list=[\"P\", \"S\", \"PP\",\"SKS\",'ScS'],\n",
    "                       ax=ax, fig=fig, verbose=True)\n",
    "\n",
    "fig.savefig('/media/hein/home2/SplitWave_Results/Project_images/Travel_times_tau-P.png',dpi=150)\n",
    "plt.show()\n",
    "#plt.plot(arrivals)\n",
    "print(arrivals)\n",
    "\n",
    "## list of station coordinates and t_SKS_ arrivals\n"
   ]
  },
  {
   "cell_type": "code",
   "execution_count": 6,
   "metadata": {
    "scrolled": true
   },
   "outputs": [],
   "source": [
    "#################################################################################\n",
    "### DOWNLOAD SKRIPT\n",
    "#################################################################################\n",
    "save_loc = '/media/hein/home2/SplitWave_Data/'\n",
    "FMT = 'SAC'\n",
    "\n",
    "n_SKS=len(long_list[:])\n",
    "\n",
    "DO_DOWNLOAD=False\n",
    "if DO_DOWNLOAD==True:\n",
    "\n",
    "    for i in range(0,n_SKS):\n",
    "\n",
    "        try:    \n",
    "            st = obspy.Stream()\n",
    "            ## go through EQ time list and download 1h waveforms \n",
    "            st = client.get_waveforms(\"CH\", long_list[i][1], \"\",\n",
    "                                      \"BH?\", long_list[i][5],long_list[i][5]+60*60 ,attach_response=True)  \n",
    "             ## go to folder, save each trace individually        \n",
    "            path= '{0}/{1}'.format(save_loc,long_list[i][1])\n",
    "\n",
    "            try:  \n",
    "                os.mkdir(path)\n",
    "            except OSError:\n",
    "                print (\"Creation of the directory %s failed\" % path)\n",
    "            else:  \n",
    "                print (\"Successfully created the directory %s \" % path)\n",
    "\n",
    "            pre_filt = (0.001, 0.005, 40.0, 60.0)        \n",
    "            st.remove_response(pre_filt=pre_filt, plot=False)\n",
    "            st.decimate(factor=int(st[0].stats.sampling_rate/10), strict_length=False)         ## downsample to 10 Hz\n",
    "            st.detrend(type='linear')   \n",
    "            st.filter(\"bandpass\",freqmin=0.01,freqmax=0.5)\n",
    "\n",
    "            #FORMAT: 2011.164.14.31.26.1450.FR.ASEAF.BHN..SAC\n",
    "            event_info = UTCDateTime(str(long_list[i][5]))\n",
    "            for tr in st:\n",
    "                filename='{0}/{1}/{2}.{3}.{4}.{5}.{6}.{7}.{8}.{9}.{10}..SAC'.format(save_loc,long_list[i][1],event_info.year,\n",
    "                                                                  event_info.julday,event_info.hour,\n",
    "                                                                  event_info.minute,event_info.second,\n",
    "                                                                  event_info.microsecond/100,tr.stats.network,\n",
    "                                                                  tr.stats.station,tr.stats.channel)        \n",
    "                tr.write(filename,format=FMT)\n",
    "                print('saved data for Station: ',long_list[i][1])        \n",
    "        except:\n",
    "            print('no data for Station: ',long_list[i][1])\n",
    "            pass\n",
    "#################################################################################"
   ]
  },
  {
   "cell_type": "markdown",
   "metadata": {},
   "source": [
    "# First calculates distance from EQ and Station coordinates.\n",
    "\n",
    "# Then calculates the theoretical arrival Times of each Phases from distance and depth of the event.\n"
   ]
  },
  {
   "cell_type": "code",
   "execution_count": 7,
   "metadata": {},
   "outputs": [],
   "source": [
    "#################################################################################\n",
    "######### READ STATION SKRIPT\n",
    "#################################################################################\n",
    "def read_station_event_data(istation):\n",
    "    #### to get all waveforms of 1 station\n",
    "    st_lat_list = []\n",
    "    st_lon_list = []        \n",
    "    ev_lat_list =[]\n",
    "    ev_lon_list =[]\n",
    "    ev_time_list = []\n",
    "    ev_depth_list = []    \n",
    "    ev_mag_list = []\n",
    "    ev_dist_list = []\n",
    "    back_azimut_list =[]    \n",
    "    t_SKS_list = []\n",
    "    t_SKKS_list = []\n",
    "    t_SKS=0     \n",
    "    t_SKKS=0 \n",
    "    t_PP=0     \n",
    "    t_PP_list = []    \n",
    "\n",
    "    PHASE_LIST = ['PP','SKS','SKKS']\n",
    "    st_event = obspy.Stream()\n",
    "    for iSKS in long_list:    \n",
    "#    for iSKS in long_list[0:25]:\n",
    "        \n",
    "        if iSKS[1]==istation:\n",
    "#            print(iSKS[1])\n",
    "            filename='{0}/{1}/{2}.{3}.{4}.{5}.{6}.{7}.CH.{8}.BH?..SAC'.format(save_loc,iSKS[1],iSKS[5].year,\n",
    "                                                              iSKS[5].julday,iSKS[5].hour,\n",
    "                                                              iSKS[5].minute,iSKS[5].second,\n",
    "                                                              iSKS[5].microsecond/100,\n",
    "                                                              iSKS[1])\n",
    "\n",
    "        ## something which only gets the data for 1 events\n",
    "#            print(filename)\n",
    "            st_tmp=obspy.Stream()\n",
    "            try:\n",
    "            \n",
    "        #                print('reading', iSKS[1])\n",
    "                st_tmp += read(filename)\n",
    "\n",
    "                if len(st_tmp)>2:\n",
    "\n",
    "                    if (st_tmp[0].stats.npts > 36000 and st_tmp[1].stats.npts > 36000 and st_tmp[2].stats.npts > 36000):\n",
    "\n",
    "\n",
    "                        st_lat = iSKS[3]\n",
    "                        st_lon = iSKS[4]\n",
    "                        ev_time = UTCDateTime(iSKS[5])     \n",
    "                        ev_lat = iSKS[6]\n",
    "                        ev_lon = iSKS[7]\n",
    "                        ev_depth = iSKS[8]\n",
    "                        ev_mag = iSKS[9]  \n",
    "                        ev_dist = iSKS[10]\n",
    "\n",
    "                        st_lat_list.append(st_lat)\n",
    "                        st_lon_list.append(st_lon)                    \n",
    "                        ev_lat_list.append(ev_lat)\n",
    "                        ev_lon_list.append(ev_lon)        \n",
    "                        ev_time_list.append(ev_time)\n",
    "                        ev_depth_list.append(ev_depth)\n",
    "                        ev_mag_list.append(ev_mag)\n",
    "                        ev_dist_list.append(ev_dist)\n",
    "\n",
    "                        dist_deg = locations2degrees(ev_lat,ev_lon,\n",
    "                                   st_lat,st_lon)\n",
    "\n",
    "                        arrivals = model.get_travel_times(source_depth_in_km=ev_depth/1000, distance_in_degree=dist_deg,phase_list=PHASE_LIST)\n",
    "\n",
    "                        geodetics = gps2dist_azimuth(ev_lat, ev_lon,\n",
    "                               st_lat, st_lon, a=6378137.0, f=0.0033528106647474805)\n",
    "\n",
    "                        back_azimut = geodetics[2]\n",
    "                        back_azimut_list.append(back_azimut)\n",
    "\n",
    "                        for i in range(0,len(arrivals)):\n",
    "                            if arrivals[i].name=='SKS':\n",
    "                                t_SKS = arrivals[i].time\n",
    "                            elif (arrivals[i].name=='SKKS' and t_SKKS==0):\n",
    "                                t_SKKS = arrivals[i].time     \n",
    "                            elif arrivals[i].name=='PP':\n",
    "                                t_PP = arrivals[i].time\n",
    "\n",
    "                        t_SKS_list.append(t_SKS)\n",
    "                        t_SKKS_list.append(t_SKKS)                        \n",
    "                        t_PP_list.append(t_PP)                                                \n",
    "\n",
    "                        st_event +=st_tmp\n",
    "                    else:\n",
    "                        print('Stream has too few samples')\n",
    "                else:\n",
    "                    print('Stream has not 3 channels')\n",
    "\n",
    "\n",
    "\n",
    "            except:\n",
    "                print('no matching file')\n",
    "            \n",
    "\n",
    "    return st_event,st_lat_list,st_lon_list,ev_lat_list,ev_lon_list,ev_time_list,ev_depth_list,ev_mag_list,ev_dist_list,back_azimut_list, t_SKS_list,t_SKKS_list,t_PP_list\n",
    "\n",
    "### THERE SEEMS TO BE A PROBLEM WITH TAU P NAMING THE PP and S Phase to SKKS\n",
    "#fig, ax = plt.subplots(figsize=(9, 9))\n",
    "#ax = plot_travel_times(source_depth=10, phase_list=PHASE_LIST, ax=ax, fig=fig, verbose=True)\n",
    "#fig.savefig('/media/hein/home2/SplitWave_Results/Project_images/Travel_times_tau-P.png')\n",
    "#arrivals = model.get_ray_paths(source_depth_in_km=50, distance_in_degree=100, phase_list=PHASE_LIST)\n",
    "\n",
    "#fig, ax = plt.subplots(figsize=(9, 9))\n",
    "#fig =plt.figure(figsize=(16,9))\n",
    "#ax = fig.add_axes([0.2,0.15,0.6,0.7],projection='polar')  \n",
    "#ax = arrivals.plot_rays(legend=True,fig=fig)\n",
    "#fig.savefig('/media/hein/home2/SplitWave_Results/Project_images/Ray_path_tau-P.png')\n",
    "\n",
    "#fig =plt.figure(figsize=(16,9))\n",
    "#ax = fig.add_axes([0.2,0.15,0.6,0.7])  \n",
    "#ax = arrivals.plot_rays(legend=True,plot_type=\"cartesian\",fig=fig)\n",
    "#fig.savefig('/media/hein/home2/SplitWave_Results/Project_images/Ray_path_cartesian_tau-P.png')"
   ]
  },
  {
   "cell_type": "code",
   "execution_count": null,
   "metadata": {},
   "outputs": [],
   "source": []
  },
  {
   "cell_type": "code",
   "execution_count": 8,
   "metadata": {},
   "outputs": [],
   "source": [
    "#################################################################################\n",
    "######### automatic Splitting Routine for all methods \n",
    "#################################################################################\n",
    "\n",
    "def automatic_SplitWave_Routine(st_ev,st_lat_l,st_lon_l,ev_lat_l,ev_lon_l,ev_time_l,ev_depth_l,ev_mag_l,ev_dist_l,back_azimut_l, t_SKS_l,t_SKKS_l,t_PP_l):\n",
    "    \n",
    "    Az_l = []\n",
    "    SV_Az_l = []\n",
    "    for step in tqdm(range(0,(len(st_ev)-3)/3)):\n",
    "#    for step in tqdm(range(2,5)):\n",
    "\n",
    "        st_selection = st_ev[step*3:3*step+3]\n",
    "\n",
    "        ### check if event time outside st_event\n",
    "        back_az = back_azimut_l[step]\n",
    "        st_cut,SNR,t_real_SKS = plot_SKS_window(st_selection,t_SKS_l[step],t_SKKS_l[step],ev_time_l[step],ev_mag_l[step],ev_dist_l[step])\n",
    "        \n",
    "        #### CHEVROT HERE\n",
    "        Az,SV_Az = SKS_Intensity_Chevrot(st_selection,ev_time_l[step],float(t_real_SKS)-float(ev_time_l[step]),back_azimut_l[step],plot=True)\n",
    "        Az_l.append(Az)\n",
    "        SV_Az_l.append(SV_Az)\n",
    "        ####        \n",
    "        \n",
    "        method= 'TransM'\n",
    "        fast,dfast,lag,dlag =  Splitwave_TransM(st_cut,back_az,plot_SplitW)\n",
    "        vals = [str(st_cut[0].stats.station),st_lat_l[step],st_lon_l[step],float(ev_time_l[step]),ev_depth_l[step]/1000,ev_mag_l[step],ev_lat_l[step],ev_lon_l[step], fast,dfast,lag,dlag ,SNR]\n",
    "    #    print(fast,dfast,lag,dlag)                         \n",
    "        write_SKS_Results(path,method,vals,st_cut[0].stats.station, header)\n",
    "\n",
    "        method= 'CrossC'\n",
    "        fast,dfast,lag,dlag =  Splitwave_CrossC(st_cut,plot_SplitW)\n",
    "        vals = [str(st_cut[0].stats.station),st_lat_l[step],st_lon_l[step],float(ev_time_l[step]),ev_depth_l[step]/1000,ev_mag_l[step],ev_lat_l[step],ev_lon_l[step], fast,dfast,lag,dlag ,SNR]    \n",
    "    #    print(fast,dfast,lag,dlag)\n",
    "        write_SKS_Results(path,method,vals,st_cut[0].stats.station, header)\n",
    "\n",
    "        method= 'Eig3D'\n",
    "        fast,dfast,lag,dlag =  Splitwave_Eig3D(st_cut,plot_SplitW)\n",
    "        vals = [str(st_cut[0].stats.station),st_lat_l[step],st_lon_l[step],float(ev_time_l[step]),ev_depth_l[step]/1000,ev_mag_l[step],ev_lat_l[step],ev_lon_l[step], fast,dfast,lag,dlag ,SNR]\n",
    "    #    print(fast,dfast,lag,dlag)\n",
    "        write_SKS_Results(path,method,vals,st_cut[0].stats.station, header)    \n",
    "        \n",
    "        method= 'EigM'\n",
    "        fast,dfast,lag,dlag =  Splitwave_EigM(st_cut,plot_SplitW)\n",
    "        vals = [str(st_cut[0].stats.station),st_lat_l[step],st_lon_l[step],float(ev_time_l[step]),ev_depth_l[step]/1000,ev_mag_l[step],ev_lat_l[step],ev_lon_l[step], fast,dfast,lag,dlag ,SNR]\n",
    "    #    print(fast,dfast,lag,dlag)\n",
    "        write_SKS_Results(path,method,vals,st_cut[0].stats.station, header)            \n",
    "        \n",
    "    ### AFTER CALCULATING ALL INTENSITIES FOR ALL EVENTS, GET BEST PARAMS FOR CHEVROT\n",
    "    dt,phi,std_dt,std_phi = get_best_dt_and_phi(Az_l,SV_Az_l,st_ev[0].stats.station)\n",
    "    \n",
    "    print('Splitting intensity analyis: {0}'.format(st_cut[0].stats.station))    \n",
    "    print('dt',dt)\n",
    "    print('phi',phi)\n",
    "    \n",
    "    return dt,phi,std_dt,std_phi\n",
    "\n",
    "\n"
   ]
  },
  {
   "cell_type": "code",
   "execution_count": 9,
   "metadata": {},
   "outputs": [],
   "source": [
    "#################################################################################\n",
    "######### Plot the SKS Window \n",
    "#################################################################################\n",
    "\n",
    "plt.rcParams.update({'font.size': 22})\n",
    "\n",
    "def plot_SKS_window(st_event,t_SKS,t_SKKS,ev_time,ev_mag,ev_dist,plot=True):\n",
    "    \n",
    "    st_selection = obspy.Stream()\n",
    "    st_selection = st_event\n",
    "    twin = 40     ## Time Window 40 s\n",
    "    t = ev_time\n",
    "    #### TO MAKE SURE THE TRACES START AND END AT THE SAME TIME AND HAVE THE SAME amount of samples \n",
    "    mylist = (float(st_selection[0].stats.starttime),\n",
    "                           float(st_selection[1].stats.starttime),float(st_selection[2].stats.starttime))\n",
    "    max_startt = max(mylist)\n",
    "    id_m = mylist.index(max_startt)\n",
    "    max_startt = UTCDateTime(max_startt)\n",
    "\n",
    "    mylist2 = (float(st_selection[0].stats.endtime),\n",
    "                           float(st_selection[1].stats.endtime),float(st_selection[2].stats.endtime))\n",
    "    min_endt = min(mylist2)\n",
    "    id_m = mylist2.index(min_endt)\n",
    "\n",
    "    min_endt = UTCDateTime(min_endt)\n",
    "#    print(max_startt,min_endt)\n",
    "    st_selection = st_selection.slice(starttime=max_startt,endtime=min_endt)\n",
    "\n",
    "    timevec = np.linspace(float(st_selection[0].stats.starttime),\n",
    "                          float(st_selection[0].stats.endtime),st_selection[0].stats.npts)\n",
    "\n",
    "    search_room_N = st_selection[0].data[np.where((timevec>float(t)+t_SKS-twin) & (timevec<float(t)+t_SKS+twin))]    \n",
    "    search_room_E = st_selection[1].data[np.where((timevec>float(t)+t_SKS-twin) & (timevec<float(t)+t_SKS+twin))]     \n",
    "    #search_room_Z = st_selection[0].data[np.where((timevec>float(t)+t_SKS-twin) & (timevec<float(t)+t_SKS+twin))]        \n",
    "\n",
    "    max_trans_vec = np.sqrt((search_room_N)**2+(search_room_E)**2)\n",
    "    max_ampl_N = max(abs(search_room_N))\n",
    "    max_ampl_E = max(abs(search_room_E))\n",
    "    #max_ampl_Z = max(abs(search_room_Z))\n",
    "    max_trans = max(max_trans_vec)\n",
    "\n",
    "    max_ampl = max_trans \n",
    "\n",
    "    id_x = np.where(max_trans_vec==max_ampl)\n",
    "    ## theoretical arrival\n",
    "#    print 'theoretical SKS ',UTCDateTime(float(t)+t_SKS)\n",
    "    ## pick the real arrival time\n",
    "    t_SKS_real = timevec[np.where((timevec>float(t)+t_SKS-twin) & (timevec<float(t)+t_SKS+twin))][id_x]\n",
    "\n",
    "    \n",
    "    #### CALC Signal to Noise ratio from max amplitude and from absolute average of trace 15 seconds outside the signal\n",
    "    S = max_ampl\n",
    "    secs= 15     ## like 15 s outside of max\n",
    "    N1= np.mean(abs(st_selection[0].data[id_x[0][0]-10*secs*2:id_x[0][0]-10*secs]))\n",
    "    N2 = np.mean(abs(st_selection[0].data[id_x[0][0]+10*secs:id_x[0][0]+10*secs*2]))\n",
    "    N = np.mean([N1,N2])\n",
    "    SNR = S/N\n",
    "    \n",
    "    if np.isnan(SNR)==True:\n",
    "        SNR=0\n",
    "        \n",
    "        \n",
    "    abs_diff = abs(float(t_SKS_real)-float(t)-t_SKS)    \n",
    "    st_cut = st_selection.slice(starttime=UTCDateTime(t_SKS_real)-twin,\n",
    "                                 endtime=UTCDateTime(t_SKS_real)+twin,nearest_sample=True)\n",
    "    \n",
    "    ### ONLY PLOTTING BELOW    \n",
    "    if Splitting_windows==True:    \n",
    "        fig = plt.figure(figsize=(16,9))\n",
    "        ax = fig.add_axes([0.15,0.15,0.7,0.7])    \n",
    "\n",
    "        ax.plot(timevec[0:36000], st_selection[0].data[0:36000], \"b-\",label=st_selection[0].stats.channel)\n",
    "        ax.plot(timevec[0:36000], st_selection[1].data[0:36000], \"g-\",label=st_selection[1].stats.channel)\n",
    "        ax.plot(timevec[0:36000], st_selection[2].data[0:36000], \"k-\",label=st_selection[2].stats.channel, linewidth=0.75, alpha=0.5)\n",
    "\n",
    "        ax.vlines(float(t)+t_SKS, min(st_selection[0].data), max(st_selection[0].data), color='r', linewidth=2,label='SKS-arrival (tau-p)')\n",
    "        ax.vlines(t_SKS_real,-max_ampl,max_ampl,color='red',linestyle='dashed', linewidth=2,label='SKS-arrival (picked)')\n",
    "        ax.vlines(float(t)+t_SKKS,min(st_selection[0].data),max(st_selection[0].data),color='chocolate', linewidth=1,label='SKKS-arrival (tau-p)')\n",
    "        ax.set_title('SKS-window, station: {0} , SNR={1}'.format(st_selection[0].stats.station,int(SNR)),loc='left')\n",
    "\n",
    "        if float(t_SKS_real)-float(t)>t_SKS:\n",
    "            ax.text(t_SKS_real-abs_diff/2-1,1.05*-max_ampl,r'$\\Delta $'+'t=+{0:.2f} s'.format(abs_diff),fontweight='bold')\n",
    "        else:\n",
    "            ax.text(t_SKS_real+abs_diff/2-1,1.05*-max_ampl,r'$\\Delta $'+'t=-{0:.2f} s'.format(abs_diff),fontweight='bold')        \n",
    "\n",
    "        ax.text(float(t)+t_SKS-twin+1,max_ampl*0.85,'Earthquake Info: \\n t={0}, dist={1}$^\\circ$ \\n Mw={2}'.format(ev_time.strftime('%Y-%m-%d, %H:%M:%S'),round(ev_dist,2),ev_mag),fontweight='bold')\n",
    "    ########### SET PROPER TIME AXIS    \n",
    "        xxticks = np.linspace(timevec[0], timevec[-1],300)\n",
    "        xxlabels=[]\n",
    "        for i in range(0,len(xxticks)):\n",
    "            tmp=UTCDateTime(xxticks[i]).strftime('%H:%M:%S')\n",
    "            xxlabels.append(tmp)\n",
    "    ########### SET PROPER TIME AXIS    \n",
    "        ax.set_xticks(xxticks)\n",
    "        ax.set_xticklabels(xxlabels)    \n",
    "\n",
    "        ax.set_xlim(float(t)+t_SKS-twin,float(t)+t_SKS+twin)\n",
    "        ax.set_ylim(-max_ampl*1.25,max_ampl*1.25)    \n",
    "        ax.fill_between([float(t_SKS_real)-twin, float(t_SKS_real)+twin], [-max_ampl*1.25, -max_ampl*1.25],\n",
    "                                 [max_ampl*1.25,max_ampl*1.25],\n",
    "                                 color='gray', alpha=0.25, label='selected time window $\\pm$'+'{0} s'.format(twin))\n",
    "        ax.set_xlabel('Time [hh:mm:ss]')\n",
    "        ax.set_ylabel('displacement [m]')    \n",
    "        ax.grid(alpha=0.5)\n",
    "        ax.legend(loc=4, bbox_to_anchor=(1.2, 0.65))\n",
    "        ### SAVE EVERY IMAGE_SOMEWHERE\n",
    "        try:  \n",
    "            path_SWindows='{0}/../SplitWave_Results/Splitting_windows/{1}/'.format(save_loc,st_cut[0].stats.station)\n",
    "            os.mkdir(path_SWindows)\n",
    "        except:\n",
    "            pass\n",
    "\n",
    "        image_name='{0}/../SplitWave_Results/Splitting_windows/{1}/{1}_{2}.png'.format(save_loc,st_cut[0].stats.station,t.strftime(\"%Y-%m-%d_%H_%M\"))        \n",
    "        fig.savefig(image_name)\n",
    "        plt.close()\n",
    "            \n",
    "    return st_cut,SNR,t_SKS_real\n",
    "\n"
   ]
  },
  {
   "cell_type": "markdown",
   "metadata": {},
   "source": [
    "# Function to Save measurements\n"
   ]
  },
  {
   "cell_type": "code",
   "execution_count": 10,
   "metadata": {},
   "outputs": [],
   "source": [
    "#################################################################################\n",
    "######### Auxiliary Functions to save the output to .txt \n",
    "#################################################################################\n",
    "\n",
    "def write_head(path, method, station, header):\n",
    "    fnam_out = os.path.join(path, '{1}/SKS_Splitting_{0}_{1}.txt'.format(station,method))\n",
    "    print('wrote into:', fnam_out)\n",
    "                            \n",
    "    with open(fnam_out, 'w') as fid:\n",
    "        fid.write('# ' + header + '\\n')\n",
    "        \n",
    "def write_head_CHEV(path, method, header):\n",
    "    fnam_out = os.path.join(path, '{0}/SKS_Splitting_{0}.txt'.format(method))\n",
    "    print('wrote into:', fnam_out)\n",
    "                            \n",
    "    with open(fnam_out, 'w') as fid:\n",
    "        fid.write('# ' + header + '\\n')        \n",
    "        \n",
    "                            \n",
    "def write_SKS_Results(path, method, vals, station, header):\n",
    "    fnam_out = os.path.join(path,\n",
    "                            '{1}/SKS_Splitting_{0}_{1}.txt'.format(station,method))\n",
    "    fmt = '%s \\n'    \n",
    "    vals_array = np.asarray(vals)\n",
    "\n",
    "    with open(fnam_out, 'a') as fid:      \n",
    "        arraystring = np.array2string(vals_array[:], \n",
    "                                      precision=6,\n",
    "                                      max_line_width=255)\n",
    "        fid.write(fmt % (arraystring[1:-1]))\n",
    "\n",
    "def write_SKS_Results_CHEV(path, method, vals, header):\n",
    "    fnam_out = os.path.join(path,\n",
    "                            '{0}/SKS_Splitting_{0}.txt'.format(method))\n",
    "#    print(fnam_out)\n",
    "    fmt = '%s \\n'    \n",
    "    vals_array = np.asarray(vals)\n",
    "#    print(vals_array)\n",
    "\n",
    "    with open(fnam_out, 'a') as fid:      \n",
    "        arraystring = np.array2string(vals_array[:], \n",
    "                                      precision=4,\n",
    "                                      max_line_width=255)\n",
    "        fid.write(fmt % (arraystring[1:-1]))\n",
    "        \n",
    "path = '/media/hein/home2/SplitWave_Results/SKS/'\n",
    "\n",
    "header='Station.code, ' + \\\n",
    "        'Station.lat [°],' + \\\n",
    "        'Station.lon [°],' + \\\n",
    "        'Event time, ' + \\\n",
    "        'Event depth [km], ' + \\\n",
    "        'Event mag, '+ \\\n",
    "        'Event lat [°],' + \\\n",
    "        'Event lon [°],' + \\\n",
    "        'fast dir [°],' + \\\n",
    "        'dfast dir [°],' +\\\n",
    "        'lag [s],' + \\\n",
    "        'dlag [s],' + \\\n",
    "        'SNR dB' \n",
    "\n",
    "header2='Station.code, ' + \\\n",
    "        'dt [s],' + \\\n",
    "        'dlag [s],' + \\\n",
    "        'fast dir [°]' + \\\n",
    "        'dfast dir [°], '\n",
    "\n"
   ]
  },
  {
   "cell_type": "markdown",
   "metadata": {},
   "source": [
    "# SPLITWAVE ROUTINES\n",
    "## Set The Time Windows t1 and t2\n",
    "## choose the lag"
   ]
  },
  {
   "cell_type": "code",
   "execution_count": 11,
   "metadata": {},
   "outputs": [],
   "source": [
    "#################################################################################\n",
    "######### SPLITWAVE ROUTINES \n",
    "#################################################################################\n",
    "\n",
    "    \n",
    "\n",
    "def Splitwave_Eig3D(st_cut,plot=False):\n",
    "\n",
    "    tmp = st_cut\n",
    "    delta = tmp[0].stats.delta\n",
    "#    print(delta)\n",
    "    t = sw.Trio(tmp[1].data,tmp[0].data, tmp[2].data,delta=delta)\n",
    "    #t = sw.Pair(st_slice[1].data,)\n",
    "\n",
    "    ## write something for time window\n",
    "    \n",
    "    t1 = 10\n",
    "    t2 = 70\n",
    "    t.set_window(t1,t2)\n",
    "#    t.plot()\n",
    "\n",
    "    b = sw.Eig3dM(t,lags=(3,))\n",
    "    \n",
    "    try:  \n",
    "        path_Methods='{0}/../SplitWave_Results/Methods/Eig3D/{1}/'.format(save_loc,st_cut[0].stats.station)\n",
    "        os.mkdir(path_Methods)\n",
    "    except:\n",
    "        pass\n",
    "    b.save('/media/hein/home2/SplitWave_Results/Methods/Eig3D/{0}/{0}_{1}.eig'.format(st_cut[0].stats.station,st_cut[0].stats.starttime.strftime(\"%Y-%m-%d\")))    \n",
    "    if plot==True:\n",
    "        b.plot()\n",
    "    \n",
    "\n",
    "    return b.fast, b.dfast,round(b.lag,4),round(b.dlag,4)\n",
    "\n",
    "\n",
    "def Splitwave_EigM(st_cut,plot=False):\n",
    "    # get data into Pair object and plot\n",
    "    tmp = st_cut    \n",
    "    north = tmp[1].data\n",
    "    east = tmp[0].data\n",
    "    sample_interval = tmp[0].stats.delta\n",
    "    realdata = sw.Pair(north, east, delta=sample_interval)\n",
    "    ## write something for time window    \n",
    "    t1 = 10\n",
    "    t2 = 70\n",
    "    realdata.set_window(t1,t2)\n",
    "   # realdata.plot()\n",
    "    \n",
    "    measure = sw.EigenM(realdata,lags=(3,))\n",
    "    \n",
    "    try:  \n",
    "        path_Methods='{0}/../SplitWave_Results/Methods/EigM/{1}/'.format(save_loc,st_cut[0].stats.station)\n",
    "        os.mkdir(path_Methods)\n",
    "    except:\n",
    "        pass\n",
    "    \n",
    "    measure.save('/media/hein/home2/SplitWave_Results/Methods/EigM/{0}/{0}_{1}.eig'.format(st_cut[0].stats.station,st_cut[0].stats.starttime.strftime(\"%Y-%m-%d\")))    \n",
    "    if plot==True:\n",
    "        measure.plot()\n",
    "    \n",
    "    \n",
    "    return measure.fast, measure.dfast,round(measure.lag,4),round(measure.dlag,4)\n",
    "\n",
    "\n",
    "def Splitwave_TransM(st_cut,back_az,plot=False):\n",
    "    tmp = st_cut    \n",
    "    north = tmp[1].data\n",
    "    east = tmp[0].data\n",
    "    sample_interval = tmp[0].stats.delta\n",
    "    realdata = sw.Pair(north, east, delta=sample_interval)\n",
    "    ## write something for time window    \n",
    "    t1 = 10\n",
    "    t2 = 70\n",
    "    realdata.set_window(t1,t2)\n",
    "    #realdata.plot()\n",
    "    \n",
    "    m = sw.TransM(realdata, pol=back_az, lags=(3,))\n",
    "    try:  \n",
    "        path_Methods='{0}/../SplitWave_Results/Methods/TransM/{1}/'.format(save_loc,st_cut[0].stats.station)\n",
    "        os.mkdir(path_Methods)\n",
    "    except:\n",
    "        pass\n",
    "    \n",
    "    m.save('/media/hein/home2/SplitWave_Results/Methods/TransM/{0}/{0}_{1}.eig'.format(st_cut[0].stats.station,st_cut[0].stats.starttime.strftime(\"%Y-%m-%d\")))    \n",
    "    \n",
    "    if plot==True:\n",
    "        m.plot()\n",
    "\n",
    "    return m.fast, m.dfast,round(m.lag,4),round(m.dlag,4)\n",
    "\n",
    "\n",
    "def Splitwave_CrossC(st_cut,plot=False):\n",
    "    tmp = st_cut    \n",
    "    north = tmp[1].data\n",
    "    east = tmp[0].data\n",
    "    sample_interval = tmp[0].stats.delta\n",
    "    realdata = sw.Pair(north, east, delta=sample_interval)\n",
    "    ## write something for time window    \n",
    "    t1 = 10\n",
    "    t2 = 70\n",
    "    realdata.set_window(t1,t2)\n",
    "  #  realdata.plot()\n",
    "\n",
    "    m = sw.CrossM(realdata, lags=(3,))\n",
    "    try:  \n",
    "        path_Methods='{0}/../SplitWave_Results/Methods/CrossC/{1}/'.format(save_loc,st_cut[0].stats.station)\n",
    "        os.mkdir(path_Methods)\n",
    "    except:  \n",
    "        pass\n",
    "        \n",
    "    m.save('/media/hein/home2/SplitWave_Results/Methods/CrossC/{0}/{0}_{1}.eig'.format(st_cut[0].stats.station, st_cut[0].stats.starttime.strftime(\"%Y-%m-%d\")))\n",
    "    if plot==True:\n",
    "        m.plot()\n",
    "\n",
    "    \n",
    "    return m.fast, m.dfast,round(m.lag,4),round(m.dlag,4)\n",
    "\n",
    "\n",
    "\n",
    "\n",
    "# fast,dfast,lag,dlag =  Splitwave_EigenM(st_cut)\n",
    "# print(fast,dfast,lag,dlag)\n",
    "# fast,dfast,lag,dlag =  Splitwave_TransM(st_cut,back_az)\n",
    "# print(fast,dfast,lag,dlag)\n",
    "# fast,dfast,lag,dlag =  Splitwave_CrossC(st_cut)\n",
    "# print(fast,dfast,lag,dlag)\n"
   ]
  },
  {
   "cell_type": "markdown",
   "metadata": {},
   "source": [
    "# implementing Chevrot Splitting Intensity\n",
    "# calc Splitting vector by\n",
    "$$SV = \\frac{\\dot{R(\\phi)} T(\\phi)}{||R||^2}$$"
   ]
  },
  {
   "cell_type": "code",
   "execution_count": 12,
   "metadata": {},
   "outputs": [],
   "source": [
    "#################################################################################\n",
    "######### CHEVROT METHOD \n",
    "#################################################################################\n",
    "## take time window of N and E wave\n",
    "## get particle direction for max pulse\n",
    "## rotate to RT\n",
    "## calc Splitting Vector \n",
    "## generalize for EVENTS\n",
    "## now calc for several events\n",
    "## make azimuth vs SV amplitude plot\n",
    "## fit a Least Square sinusoid\n",
    "\n",
    "\n",
    "\n",
    "def splittingintensity(rdiff,trans):\n",
    "    \"\"\"\n",
    "    Calculate splitting intensity.\n",
    "    \"\"\"\n",
    "    \n",
    "    s = -2 * np.trapz(trans * rdiff) / np.trapz(rdiff**2)\n",
    "\n",
    "    return s\n",
    "\n",
    "\n",
    "\n",
    "\n",
    "def SKS_Intensity_Chevrot(st_ev,ev_time,t_SKS,back_azimut,plot=True):\n",
    "#    SV_Az = []\n",
    "#    Az = []\n",
    "    st_ev = st_ev.sort()\n",
    "\n",
    "#    for ev_step in range(0,len(ev_time_l)):    \n",
    "    ### SORT IT AS ZNE\n",
    "    st_stream = obspy.Stream()\n",
    "    tmp = st_ev[2]\n",
    "    st_stream +=tmp\n",
    "    tmp = st_ev[1]\n",
    "    st_stream +=tmp\n",
    "    tmp = st_ev[0]\n",
    "    st_stream +=tmp\n",
    "\n",
    "    gridspec.GridSpec(2,3)\n",
    "\n",
    "    arrival_time = ev_time+t_SKS\n",
    "\n",
    "    ### USE CORRECT ARRIVAL TIME\n",
    "    ### Take small time window around arrival time \n",
    "    twin = 15\n",
    "    st_stream = st_stream.slice(arrival_time-twin,arrival_time+twin,nearest_sample=True)\n",
    "\n",
    "    limits=np.max([abs(st_stream[2].data),abs(st_stream[2].data)])*2*10**6\n",
    "\n",
    "    #### CALC THE POLARIZATION OF PARTICLE MOTION\n",
    "    ## only accept the upper half for Signal\n",
    "    noise_level=st_stream[0].data**2+st_stream[1].data**2+st_stream[2].data**2\n",
    "    azimuth, incidence, az_error, in_error = particle_motion_odr(st_stream, noise_thres=np.mean([np.max(noise_level), np.min(noise_level)])+np.std([np.max(noise_level), np.min(noise_level)]))\n",
    "#    print(az_error)\n",
    "    ### ROTATE THE SYSTEM FROM NE TO RT\n",
    "    st_rot_RT = rotate_ne_rt(st_stream[1].data,st_stream[2].data,180+azimuth)    \n",
    "    \n",
    "    radial = st_rot_RT[0]\n",
    "    r_dot = np.diff(radial)/st_stream[1].stats.delta\n",
    "        \n",
    "    radial = radial[0:len(r_dot)]\n",
    "    transverse=st_rot_RT[1][0:len(r_dot)]    \n",
    "\n",
    "    r_2 = np.sum(r_dot**2)\n",
    "    ### NORMALIZE SPLITTING VECTOR\n",
    "    SV_EQ = -np.sum(2*r_dot*transverse)/r_2\n",
    "    ## same with walpoles implementation, so clean up?\n",
    "#    s = splittingintensity(r_dot,transverse)\n",
    "#    print('Walpole ',s)\n",
    "#    print('me',SV_EQ)\n",
    "\n",
    "\n",
    "    sigma = np.sqrt(np.sum((transverse+0.5*r_dot*SV_EQ)**2))\n",
    "#    print(sigma)\n",
    "    \n",
    "    ### EVENT AZIMUT IS BACK-AZIMUT +180\n",
    "    if back_azimut+180>360:\n",
    "        Az = back_azimut-180\n",
    "    else:\n",
    "        Az=back_azimut+180\n",
    "    SV_Az = SV_EQ \n",
    "\n",
    "    if plot==True:\n",
    "    ### Only Plotting Below     \n",
    "        fig = plt.figure(figsize=(16,9))\n",
    "#        plt.subplot2grid((2,3), (0,0), colspan=2, rowspan=1)        \n",
    "        ax1 = fig.add_axes([0.1,0.5,0.5,0.3])    \n",
    "        ax2 = fig.add_axes([0.65,0.5,0.25,0.3])        \n",
    "        ax3 = fig.add_axes([0.1,0.1,0.5,0.3])     \n",
    "        ax4 = fig.add_axes([0.65,0.1,0.25,0.3])            \n",
    "        \n",
    "        timevec = np.linspace(float(st_stream[0].stats.starttime),float(st_stream[0].stats.endtime),st_stream[0].stats.npts)\n",
    "\n",
    "        xxticks = np.linspace(timevec[0], timevec[-1],10)\n",
    "        xxlabels=[]\n",
    "        for i in range(0,len(xxticks)):\n",
    "            tmp=UTCDateTime(xxticks[i]).strftime('%H:%M:%S')\n",
    "            xxlabels.append(tmp)\n",
    "            \n",
    "    ########### SET PROPER TIME AXIS    \n",
    "\n",
    "\n",
    "        ax1.plot(timevec,st_stream[1].data*10**6,'g',label='North')\n",
    "        ax1.plot(timevec,st_stream[2].data*10**6,'b',label='East')\n",
    "        ax1.vlines(x=float(arrival_time),ymin=1.3*np.min(np.min([st_stream[1].data*10**6,st_stream[2].data*10**6])),ymax=1.3*np.max(np.max([st_stream[1].data*10**6,st_stream[2].data*10**6])),color='k',linewidth=0.5,label='SKS-Phase')\n",
    "        ax1.set_title('{0}, SKS-arrival at: {1}, Backazimut={2} $^\\circ$, SI={3}'.format(st_stream[0].stats.station,arrival_time.strftime('%Y-%m-%d, %H:%M:%S'),round(Az,2),round(SV_Az,2)))\n",
    "        ax1.set_xlabel('Time [s]')\n",
    "        ax1.set_ylabel('displacement [$\\mu$m]')  \n",
    "        ax1.set_xlim(timevec[0],timevec[-1])            \n",
    "        ax1.set_xticks(xxticks)\n",
    "        ax1.set_xticklabels(xxlabels)            \n",
    "        ax1.grid()        \n",
    "        ax1.legend()\n",
    "\n",
    "#        plt.subplot2grid((2,3), (0,2))\n",
    "        ax2.plot(st_stream[2].data*10**6,st_stream[1].data/10**-6,color='black',linestyle='dashed')\n",
    "        ax2.set_xlabel('East disp. [$\\mu$m]')\n",
    "        ax2.set_ylabel('North disp. [$\\mu$m]')\n",
    "        ax2.axis('equal')\n",
    "        ax2.set_xlim(-limits, limits)\n",
    "        ax2.set_ylim(-limits, limits)\n",
    "        ax2.grid()\n",
    "        ax2.set_title('Polarization: Azimuth={0}$^\\circ$'.format(round(azimuth,2)))\n",
    "        \n",
    "#        limits = 1        \n",
    "#        limits = np.max([np.max(radial),np.max(transverse)])\n",
    "    \n",
    "# #        plt.subplot2grid((2,3), (1,0), colspan=2, rowspan=1)\n",
    "        ax3.plot(timevec[0:-1],radial*10**6,'r',label='Radial')\n",
    "        ax3.plot(timevec[0:-1],transverse*10**6,'b',label='Transverse') \n",
    "        ax3.plot(timevec[0:-1],-0.5*r_dot*(np.max(transverse)/np.max(r_dot))*10**6,color='g',label='radial-derivate',alpha=0.5,linewidth=0.5)\n",
    "        ax3.vlines(x=float(arrival_time),ymin=1.3*np.min(np.min([st_stream[1].data*10**6,st_stream[2].data*10**6])),ymax=1.3*np.max(np.max([st_stream[1].data*10**6,st_stream[2].data*10**6])),color='k',linewidth=0.5,label='SKS-Phase')        \n",
    "        ax3.set_xlabel('Time [s]')\n",
    "        ax3.set_ylabel('displacement [$\\mu$m]')                        \n",
    "        ax3.set_xlim(timevec[0],timevec[-1])            \n",
    "        ax3.set_xticks(xxticks)\n",
    "        ax3.set_xticklabels(xxlabels)                    \n",
    "        ax3.grid()        \n",
    "        ax3.set_title('rotated System')        \n",
    "        ax3.legend()\n",
    "\n",
    "#        plt.subplot2grid((2,3), (1,2))\n",
    "        ax4.plot(radial*10**6,transverse*10**6,color='black',linestyle='dashed')\n",
    "        ax4.set_xlabel('Radial disp. [$\\mu$m]')\n",
    "        ax4.set_ylabel('Transverse  disp. [$\\mu$m]')\n",
    "        ax4.axis('equal')        \n",
    "#        ax4.set_xlim(-limits, limits)\n",
    "#        ax4.set_ylim(-limits, limits)\n",
    "        ax4.grid()\n",
    "\n",
    "        try:  \n",
    "            path_Methods='/media/hein/home2/SplitWave_Results/Splitting_Intensity/{0}/'.format(st_stream[0].stats.station)\n",
    "            os.mkdir(path_Methods)\n",
    "        except:  \n",
    "            pass\n",
    "        plt.savefig('/media/hein/home2/SplitWave_Results/Splitting_Intensity/{0}/{0}_{1}'.format(st_stream[0].stats.station,arrival_time.strftime('%Y-%m-%d, %H:%M:%S')))\n",
    "        plt.close()\n",
    "#        fig.close()\n",
    "#    plt.show()\n",
    "\n",
    "    return Az,SV_Az\n",
    "\n",
    "## SINOSOID FUNCTION TO BE FIT THROUGH DATA\n",
    "def func(x, delta_t, phi):\n",
    "    y = delta_t *np.sin( 2*(np.radians(x)-phi))\n",
    "    return y\n",
    "\n",
    "\n",
    "def get_best_dt_and_phi(Az,SV_Az,station, plot=True):\n",
    "#    print(SV_Az)\n",
    "    popt = np.zeros(2)\n",
    "    #try:\n",
    "\n",
    "    # sort out extrem values\n",
    "    Az = np.asarray(Az)\n",
    "    SV_Az = np.asarray(SV_Az)\n",
    "    xdata = Az\n",
    "    ydata = SV_Az\n",
    "    \n",
    "    allow_max = 1.5 # lets see how good that works\n",
    "    xdata = Az[np.where((SV_Az<=allow_max) & (SV_Az>=-allow_max))]\n",
    "    ydata = SV_Az[np.where((SV_Az<=allow_max) & (SV_Az>=-allow_max))]\n",
    "    \n",
    "    ### FIT CURVE THROUGH DATA\n",
    "    popt, pcov = curve_fit(func, xdata, ydata,  bounds=([0, -np.pi], [5, np.pi]))\n",
    "    azi_theo = np.linspace(0,360)\n",
    "    perr = np.sqrt(np.diag(pcov))\n",
    "\n",
    "    \n",
    "    if plot==True:\n",
    "        plt.figure(figsize=(16,8))\n",
    "        plt.plot(xdata, ydata, 'ko',label='data')\n",
    "\n",
    "#        plt.plot(xdata, func(xdata, *popt), 'rx',label='prediction')\n",
    "        \n",
    "        plt.errorbar(xdata, ydata, xerr=perr[1]*180/np.pi, yerr=perr[0],color='red',alpha=0.5 ,label='errorbars', fmt='o')\n",
    "        \n",
    "        \n",
    "#       plt.plot(azi_theo,func(azi_theo,popt[0]+perr[0],(popt[1]+perr[1])*180/np.pi),color='red',linestyle='dashed',linewidth=0.5,label='1x $\\sigma$')\n",
    "#       plt.plot(azi_theo,func(azi_theo,popt[0]-perr[0],(popt[1]-perr[1])*180/np.pi),color='red',linestyle='dashed',linewidth=0.5)        \n",
    "        #plt.plot(azi_theo,func(azi_theo,popt[0]+perr[0],(popt[1])*180/np.pi),color='red',linestyle='dashed',linewidth=0.5)    \n",
    "        plt.plot(azi_theo,func(azi_theo,popt[0],popt[1]),color='black',linestyle='dashed',label='fit')\n",
    "        plt.xlabel('Azimuth [$^\\circ$]')\n",
    "        plt.ylabel('Amplitude')\n",
    "        plt.grid()\n",
    "        plt.xlim(0,360)\n",
    "#        plt.ylim(-2,2)\n",
    "#        plt.ylim(-allow_max-1,allow_max+1)        \n",
    "        plt.title('{4}, best parameters $\\Delta$t={0}$\\pm${1} s, $\\phi$={2}$\\pm${3}$^\\circ$'.format(round(popt[0],2),round(perr[0],3),round(popt[1]*180/np.pi,2),round(perr[1]*180/np.pi,3),station))\n",
    "        plt.legend()\n",
    "        plt.savefig('/media/hein/home2/SplitWave_Results/SKS/Chevrot/Splitting_Intensity_fit_{0}.png'.format(station))\n",
    "        plt.close()\n",
    "\n",
    "#     except:\n",
    "#         print('some Problem')\n",
    "#         popt[0]=np.nan\n",
    "#         popt[1]=np.nan\n",
    "#         pass\n",
    "    return popt[0],popt[1]*180/np.pi,perr[0],perr[1]*180/np.pi\n",
    "\n"
   ]
  },
  {
   "cell_type": "code",
   "execution_count": 13,
   "metadata": {},
   "outputs": [],
   "source": [
    "#################################################################################\n",
    "######### MAIN PROGRAM AS MULTIPROG Function \n",
    "#################################################################################\n",
    "\n",
    "def multiproc_SplitWave(station):\n",
    "    method= 'TransM'\n",
    "    write_head(path, method, station,header)     \n",
    "    method= 'CrossC'\n",
    "    write_head(path, method, station,header)     \n",
    "    method= 'Eig3D'\n",
    "    write_head(path, method, station,header)     \n",
    "    method= 'EigM'\n",
    "    write_head(path, method, station,header)         \n",
    "\n",
    "\n",
    "    ### Reads in the Station DATE\n",
    "\n",
    "    st_ev,st_lat_l,st_lon_l,ev_lat_l,ev_lon_l,ev_time_l,ev_depth_l,ev_mag_l,ev_dist_l,back_azimut_l, t_SKS_l,t_SKKS_l,t_PP_l = read_station_event_data(station)\n",
    "\n",
    "\n",
    "    ### Calls Function for Plotting and Splt\n",
    "    dt,phi,std_dt,std_phi = automatic_SplitWave_Routine(st_ev,st_lat_l,st_lon_l,ev_lat_l,ev_lon_l,ev_time_l,ev_depth_l,ev_mag_l,ev_dist_l,back_azimut_l, t_SKS_l,t_SKKS_l,t_PP_l)\n",
    "\n",
    "    method='Chevrot'\n",
    "    ### Still calculate ERROR Bars and improve Quality of method\n",
    "    write_SKS_Results_CHEV(path, method, [station, dt, std_dt, phi, std_phi], header2)\n",
    "\n",
    "    \n",
    "#print(new_stat_list)\n",
    "\n",
    "#print(np.where(new_stat_list=='BERGE'))\n",
    "#print(new_stat_list[7])"
   ]
  },
  {
   "cell_type": "markdown",
   "metadata": {},
   "source": [
    "# MAIN PROGRAM \n",
    "-> Read in Waveforms -> cut small window around arrival -> run SKS SPlitting"
   ]
  },
  {
   "cell_type": "code",
   "execution_count": 17,
   "metadata": {
    "scrolled": false
   },
   "outputs": [
    {
     "name": "stdout",
     "output_type": "stream",
     "text": [
      "/media/hein/home2/SplitWave_Data\n",
      "do Multiprocessing\n",
      "('wrote into:', '/media/hein/home2/SplitWave_Results/SKS/TransM/SKS_Splitting_GIMEL_TransM.txt')\n",
      "('wrote into:', '/media/hein/home2/SplitWave_Results/SKS/TransM/SKS_Splitting_LLS_TransM.txt')\n",
      "('wrote into:', '/media/hein/home2/SplitWave_Results/SKS/TransM/SKS_Splitting_BRANT_TransM.txt')\n",
      "('wrote into:', '/media/hein/home2/SplitWave_Results/SKS/TransM/SKS_Splitting_FUSIO_TransM.txt')\n",
      "('wrote into:', '/media/hein/home2/SplitWave_Results/SKS/CrossC/SKS_Splitting_LLS_CrossC.txt')\n",
      "('wrote into:', '/media/hein/home2/SplitWave_Results/SKS/CrossC/SKS_Splitting_GIMEL_CrossC.txt')\n",
      "('wrote into:', '/media/hein/home2/SplitWave_Results/SKS/CrossC/SKS_Splitting_FUSIO_CrossC.txt')\n",
      "('wrote into:', '/media/hein/home2/SplitWave_Results/SKS/CrossC/SKS_Splitting_BRANT_CrossC.txt')\n",
      "('wrote into:', '/media/hein/home2/SplitWave_Results/SKS/Eig3D/SKS_Splitting_LLS_Eig3D.txt')\n",
      "('wrote into:', '/media/hein/home2/SplitWave_Results/SKS/Eig3D/SKS_Splitting_GIMEL_Eig3D.txt')\n",
      "('wrote into:', '/media/hein/home2/SplitWave_Results/SKS/Eig3D/SKS_Splitting_BRANT_Eig3D.txt')\n",
      "('wrote into:', '/media/hein/home2/SplitWave_Results/SKS/EigM/SKS_Splitting_GIMEL_EigM.txt')\n",
      "('wrote into:', '/media/hein/home2/SplitWave_Results/SKS/EigM/SKS_Splitting_BRANT_EigM.txt')\n",
      "('wrote into:', '/media/hein/home2/SplitWave_Results/SKS/Eig3D/SKS_Splitting_FUSIO_Eig3D.txt')\n",
      "('wrote into:', '/media/hein/home2/SplitWave_Results/SKS/EigM/SKS_Splitting_LLS_EigM.txt')\n",
      "('wrote into:', '/media/hein/home2/SplitWave_Results/SKS/EigM/SKS_Splitting_FUSIO_EigM.txt')\n"
     ]
    },
    {
     "name": "stderr",
     "output_type": "stream",
     "text": [
      "/home/hein/miniconda3/envs/py27/lib/python2.7/site-packages/obspy/taup/tau_branch.py:496: UserWarning: Resizing a TauP array inplace failed due to the existence of other references to the array, creating a new array. See Obspy #2280.\n",
      "  warnings.warn(msg)\n",
      "/home/hein/miniconda3/envs/py27/lib/python2.7/site-packages/obspy/taup/tau_branch.py:496: UserWarning: Resizing a TauP array inplace failed due to the existence of other references to the array, creating a new array. See Obspy #2280.\n",
      "  warnings.warn(msg)\n",
      "/home/hein/miniconda3/envs/py27/lib/python2.7/site-packages/obspy/taup/tau_branch.py:496: UserWarning: Resizing a TauP array inplace failed due to the existence of other references to the array, creating a new array. See Obspy #2280.\n",
      "  warnings.warn(msg)\n",
      "/home/hein/miniconda3/envs/py27/lib/python2.7/site-packages/obspy/taup/tau_branch.py:496: UserWarning: Resizing a TauP array inplace failed due to the existence of other references to the array, creating a new array. See Obspy #2280.\n",
      "  warnings.warn(msg)\n"
     ]
    },
    {
     "name": "stdout",
     "output_type": "stream",
     "text": [
      "Stream has too few samples\n",
      "no matching file\n",
      "Stream has too few samples\n",
      "Stream has too few samples\n",
      "Stream has too few samples\n",
      "no matching file\n",
      "no matching file\n",
      "no matching file\n",
      "no matching file\n",
      "Stream has too few samples\n",
      "Stream has too few samples\n",
      "no matching file\n",
      "Stream has not 3 channels\n",
      "Stream has too few samples\n",
      "Stream has too few samples\n",
      "Stream has too few samples\n",
      "Stream has too few samples\n",
      "no matching file\n",
      "no matching file\n",
      "no matching file\n",
      "no matching file\n",
      "Stream has too few samples\n",
      "Stream has too few samples\n",
      "Stream has too few samples\n",
      "Stream has too few samples\n",
      "Stream has too few samples\n",
      "Stream has too few samples\n",
      "Stream has too few samples\n",
      "Stream has too few samples\n",
      "Stream has too few samples\n",
      "no matching file\n",
      "Stream has too few samples\n",
      "Stream has too few samples\n",
      "Stream has too few samples\n",
      "Stream has too few samples\n",
      "Stream has too few samples\n"
     ]
    },
    {
     "name": "stderr",
     "output_type": "stream",
     "text": [
      "\r",
      "  0%|          | 0/61 [00:00<?, ?it/s]"
     ]
    },
    {
     "name": "stdout",
     "output_type": "stream",
     "text": [
      "Stream has too few samples\n",
      "no matching file\n",
      "no matching file\n",
      "Stream has too few samples\n",
      "Stream has too few samples\n",
      "Stream has too few samples\n",
      "Stream has too few samples\n",
      "Stream has too few samples\n",
      "Stream has too few samples\n",
      "Stream has too few samples\n"
     ]
    },
    {
     "name": "stderr",
     "output_type": "stream",
     "text": [
      "\r",
      "  2%|▏         | 1/61 [00:01<01:52,  1.88s/it]"
     ]
    },
    {
     "name": "stdout",
     "output_type": "stream",
     "text": [
      "Stream has too few samples\n"
     ]
    },
    {
     "name": "stderr",
     "output_type": "stream",
     "text": [
      "  0%|          | 0/86 [00:00<?, ?it/s]/home/hein/miniconda3/envs/py27/lib/python2.7/site-packages/scipy/odr/odrpack.py:860: OdrWarning: Empty data detected for ODR instance. Do not expect any fitting to occur\n",
      "  OdrWarning)\n",
      "  1%|          | 1/86 [00:01<01:50,  1.30s/it]/home/hein/miniconda3/envs/py27/lib/python2.7/site-packages/scipy/odr/odrpack.py:860: OdrWarning: Empty data detected for ODR instance. Do not expect any fitting to occur\n",
      "  OdrWarning)\n",
      "  2%|▏         | 2/86 [00:02<01:44,  1.24s/it]/home/hein/miniconda3/envs/py27/lib/python2.7/site-packages/scipy/odr/odrpack.py:860: OdrWarning: Empty data detected for ODR instance. Do not expect any fitting to occur\n",
      "  OdrWarning)\n",
      "  8%|▊         | 5/61 [00:06<01:09,  1.24s/it]/home/hein/miniconda3/envs/py27/lib/python2.7/site-packages/scipy/odr/odrpack.py:860: OdrWarning: Empty data detected for ODR instance. Do not expect any fitting to occur\n",
      "  OdrWarning)\n",
      "  6%|▌         | 5/86 [00:05<01:27,  1.08s/it]/home/hein/miniconda3/envs/py27/lib/python2.7/site-packages/numpy/core/fromnumeric.py:2920: RuntimeWarning: Mean of empty slice.\n",
      "  out=out, **kwargs)\n",
      "/home/hein/miniconda3/envs/py27/lib/python2.7/site-packages/numpy/core/_methods.py:85: RuntimeWarning: invalid value encountered in true_divide\n",
      "  ret = ret.dtype.type(ret / rcount)\n",
      "  8%|▊         | 6/78 [00:06<01:18,  1.09s/it]/home/hein/miniconda3/envs/py27/lib/python2.7/site-packages/numpy/core/fromnumeric.py:2920: RuntimeWarning: Mean of empty slice.\n",
      "  out=out, **kwargs)\n",
      "/home/hein/miniconda3/envs/py27/lib/python2.7/site-packages/numpy/core/_methods.py:85: RuntimeWarning: invalid value encountered in true_divide\n",
      "  ret = ret.dtype.type(ret / rcount)\n",
      " 15%|█▍        | 9/61 [00:10<00:54,  1.06s/it]/home/hein/miniconda3/envs/py27/lib/python2.7/site-packages/numpy/core/fromnumeric.py:2920: RuntimeWarning: Mean of empty slice.\n",
      "  out=out, **kwargs)\n",
      "/home/hein/miniconda3/envs/py27/lib/python2.7/site-packages/numpy/core/_methods.py:85: RuntimeWarning: invalid value encountered in true_divide\n",
      "  ret = ret.dtype.type(ret / rcount)\n",
      " 51%|█████     | 44/86 [00:46<00:43,  1.03s/it]/home/hein/miniconda3/envs/py27/lib/python2.7/site-packages/numpy/core/fromnumeric.py:2920: RuntimeWarning: Mean of empty slice.\n",
      "  out=out, **kwargs)\n",
      "/home/hein/miniconda3/envs/py27/lib/python2.7/site-packages/numpy/core/_methods.py:85: RuntimeWarning: invalid value encountered in true_divide\n",
      "  ret = ret.dtype.type(ret / rcount)\n",
      "100%|██████████| 61/61 [01:04<00:00,  1.06s/it]\n",
      " 77%|███████▋  | 60/78 [01:02<00:18,  1.03s/it]"
     ]
    },
    {
     "name": "stdout",
     "output_type": "stream",
     "text": [
      "Splitting intensity analyis: BRANT\n",
      "('dt', 0.34187106761790048)\n",
      "('phi', 23.524861902796388)\n",
      "('wrote into:', '/media/hein/home2/SplitWave_Results/SKS/TransM/SKS_Splitting_BALST_TransM.txt')\n",
      "('wrote into:', '/media/hein/home2/SplitWave_Results/SKS/CrossC/SKS_Splitting_BALST_CrossC.txt')\n",
      "('wrote into:', '/media/hein/home2/SplitWave_Results/SKS/Eig3D/SKS_Splitting_BALST_Eig3D.txt')\n",
      "('wrote into:', '/media/hein/home2/SplitWave_Results/SKS/EigM/SKS_Splitting_BALST_EigM.txt')\n",
      "no matching file\n"
     ]
    },
    {
     "name": "stderr",
     "output_type": "stream",
     "text": [
      " 71%|███████   | 61/86 [01:03<00:25,  1.02s/it]"
     ]
    },
    {
     "name": "stdout",
     "output_type": "stream",
     "text": [
      "Stream has too few samples\n"
     ]
    },
    {
     "name": "stderr",
     "output_type": "stream",
     "text": [
      " 72%|███████▏  | 62/86 [01:04<00:24,  1.02s/it]"
     ]
    },
    {
     "name": "stdout",
     "output_type": "stream",
     "text": [
      "Stream has too few samples\n"
     ]
    },
    {
     "name": "stderr",
     "output_type": "stream",
     "text": [
      " 81%|████████  | 63/78 [01:06<00:17,  1.19s/it]"
     ]
    },
    {
     "name": "stdout",
     "output_type": "stream",
     "text": [
      "Stream has too few samples\n"
     ]
    },
    {
     "name": "stderr",
     "output_type": "stream",
     "text": [
      " 74%|███████▍  | 64/86 [01:06<00:22,  1.01s/it]"
     ]
    },
    {
     "name": "stdout",
     "output_type": "stream",
     "text": [
      "Stream has too few samples\n"
     ]
    },
    {
     "name": "stderr",
     "output_type": "stream",
     "text": [
      " 76%|███████▌  | 65/86 [01:07<00:21,  1.01s/it]"
     ]
    },
    {
     "name": "stdout",
     "output_type": "stream",
     "text": [
      "Stream has too few samples\n",
      "Stream has too few samples\n"
     ]
    },
    {
     "name": "stderr",
     "output_type": "stream",
     "text": [
      " 77%|███████▋  | 66/86 [01:08<00:20,  1.00s/it]"
     ]
    },
    {
     "name": "stdout",
     "output_type": "stream",
     "text": [
      "Stream has too few samples\n",
      "Stream has too few samples\n"
     ]
    },
    {
     "name": "stderr",
     "output_type": "stream",
     "text": [
      "100%|██████████| 78/78 [01:30<00:00,  1.65s/it]\n",
      " 91%|█████████ | 78/86 [01:30<00:13,  1.68s/it]"
     ]
    },
    {
     "name": "stdout",
     "output_type": "stream",
     "text": [
      "Splitting intensity analyis: GIMEL\n",
      "('dt', 0.38094321497219163)\n",
      "('phi', 3.0262148903423802)\n",
      "('wrote into:', '/media/hein/home2/SplitWave_Results/SKS/TransM/SKS_Splitting_VANNI_TransM.txt')\n",
      "('wrote into:', '/media/hein/home2/SplitWave_Results/SKS/CrossC/SKS_Splitting_VANNI_CrossC.txt')\n",
      "('wrote into:', '/media/hein/home2/SplitWave_Results/SKS/Eig3D/SKS_Splitting_VANNI_Eig3D.txt')\n",
      "('wrote into:', '/media/hein/home2/SplitWave_Results/SKS/EigM/SKS_Splitting_VANNI_EigM.txt')\n",
      "no matching file\n"
     ]
    },
    {
     "name": "stderr",
     "output_type": "stream",
     "text": [
      "\r",
      " 15%|█▍        | 12/82 [00:20<03:19,  2.85s/it]"
     ]
    },
    {
     "name": "stdout",
     "output_type": "stream",
     "text": [
      "Stream has too few samples\n"
     ]
    },
    {
     "name": "stderr",
     "output_type": "stream",
     "text": [
      " 16%|█▌        | 13/82 [00:21<02:38,  2.30s/it]"
     ]
    },
    {
     "name": "stdout",
     "output_type": "stream",
     "text": [
      "Stream has not 3 channels\n",
      "Stream has too few samples\n",
      "Stream has too few samples\n"
     ]
    },
    {
     "name": "stderr",
     "output_type": "stream",
     "text": [
      " 17%|█▋        | 14/82 [00:22<02:10,  1.92s/it]"
     ]
    },
    {
     "name": "stdout",
     "output_type": "stream",
     "text": [
      "Stream has too few samples\n",
      "Stream has too few samples\n"
     ]
    },
    {
     "name": "stderr",
     "output_type": "stream",
     "text": [
      "100%|██████████| 86/86 [01:38<00:00,  1.05s/it]\n"
     ]
    },
    {
     "name": "stdout",
     "output_type": "stream",
     "text": [
      "Splitting intensity analyis: FUSIO\n",
      "('dt', 0.49594555498817872)\n",
      "('phi', 39.072749074407582)\n",
      "('wrote into:', '/media/hein/home2/SplitWave_Results/SKS/TransM/SKS_Splitting_SGT05_TransM.txt')\n",
      "('wrote into:', '/media/hein/home2/SplitWave_Results/SKS/CrossC/SKS_Splitting_SGT05_CrossC.txt')\n",
      "('wrote into:', '/media/hein/home2/SplitWave_Results/SKS/Eig3D/SKS_Splitting_SGT05_Eig3D.txt')\n",
      "('wrote into:', '/media/hein/home2/SplitWave_Results/SKS/EigM/SKS_Splitting_SGT05_EigM.txt')\n",
      "no matching file\n",
      "no matching file\n"
     ]
    },
    {
     "name": "stderr",
     "output_type": "stream",
     "text": [
      "100%|██████████| 86/86 [01:39<00:00,  1.09s/it]\n"
     ]
    },
    {
     "name": "stdout",
     "output_type": "stream",
     "text": [
      "Splitting intensity analyis: LLS\n",
      "('dt', 0.96388804010337015)\n",
      "('phi', 47.7936919348369)\n",
      "('wrote into:', '/media/hein/home2/SplitWave_Results/SKS/TransM/SKS_Splitting_SENIN_TransM.txt')\n",
      "('wrote into:', '/media/hein/home2/SplitWave_Results/SKS/CrossC/SKS_Splitting_SENIN_CrossC.txt')\n",
      "('wrote into:', '/media/hein/home2/SplitWave_Results/SKS/Eig3D/SKS_Splitting_SENIN_Eig3D.txt')\n",
      "('wrote into:', '/media/hein/home2/SplitWave_Results/SKS/EigM/SKS_Splitting_SENIN_EigM.txt')\n",
      "Stream has too few samples\n"
     ]
    },
    {
     "name": "stderr",
     "output_type": "stream",
     "text": [
      " 16%|█▌        | 6/38 [00:06<00:33,  1.04s/it]]"
     ]
    },
    {
     "name": "stdout",
     "output_type": "stream",
     "text": [
      "Stream has too few samples\n"
     ]
    },
    {
     "name": "stderr",
     "output_type": "stream",
     "text": [
      "  0%|          | 0/28 [00:00<?, ?it/s]1.06s/it]"
     ]
    },
    {
     "name": "stdout",
     "output_type": "stream",
     "text": [
      "Stream has too few samples\n"
     ]
    },
    {
     "name": "stderr",
     "output_type": "stream",
     "text": [
      " 28%|██▊       | 23/82 [00:32<01:01,  1.05s/it]"
     ]
    },
    {
     "name": "stdout",
     "output_type": "stream",
     "text": [
      "Stream has too few samples\n"
     ]
    },
    {
     "name": "stderr",
     "output_type": "stream",
     "text": [
      " 21%|██        | 8/38 [00:08<00:30,  1.03s/it]"
     ]
    },
    {
     "name": "stdout",
     "output_type": "stream",
     "text": [
      "Stream has too few samples\n"
     ]
    },
    {
     "name": "stderr",
     "output_type": "stream",
     "text": [
      " 24%|██▎       | 9/38 [00:09<00:30,  1.04s/it]]"
     ]
    },
    {
     "name": "stdout",
     "output_type": "stream",
     "text": [
      "Stream has too few samples\n",
      "Stream has too few samples\n",
      "no matching file\n",
      "no matching file\n",
      "no matching file\n",
      "no matching file\n",
      "Stream has too few samples\n"
     ]
    },
    {
     "name": "stderr",
     "output_type": "stream",
     "text": [
      "\r",
      " 30%|███       | 25/82 [00:34<00:59,  1.04s/it]"
     ]
    },
    {
     "name": "stdout",
     "output_type": "stream",
     "text": [
      "Stream has too few samples\n"
     ]
    },
    {
     "name": "stderr",
     "output_type": "stream",
     "text": [
      "100%|██████████| 28/28 [00:30<00:00,  1.12s/it]\n"
     ]
    },
    {
     "name": "stdout",
     "output_type": "stream",
     "text": [
      "Splitting intensity analyis: SGT05\n",
      "('dt', 0.51148602157994483)\n",
      "('phi', 53.063585979216676)\n",
      "('wrote into:', '/media/hein/home2/SplitWave_Results/SKS/TransM/SKS_Splitting_ZUR_TransM.txt')\n",
      "('wrote into:', '/media/hein/home2/SplitWave_Results/SKS/CrossC/SKS_Splitting_ZUR_CrossC.txt')\n",
      "('wrote into:', '/media/hein/home2/SplitWave_Results/SKS/Eig3D/SKS_Splitting_ZUR_Eig3D.txt')\n",
      "('wrote into:', '/media/hein/home2/SplitWave_Results/SKS/EigM/SKS_Splitting_ZUR_EigM.txt')\n"
     ]
    },
    {
     "name": "stderr",
     "output_type": "stream",
     "text": [
      " 97%|█████████▋| 37/38 [00:39<00:01,  1.04s/it]"
     ]
    },
    {
     "name": "stdout",
     "output_type": "stream",
     "text": [
      "Stream has too few samples\n"
     ]
    },
    {
     "name": "stderr",
     "output_type": "stream",
     "text": [
      "100%|██████████| 38/38 [00:40<00:00,  1.04s/it]\n"
     ]
    },
    {
     "name": "stdout",
     "output_type": "stream",
     "text": [
      "Splitting intensity analyis: VANNI\n",
      "('dt', 0.60333255762333449)\n",
      "('phi', 25.488632127930387)\n",
      "('wrote into:', '/media/hein/home2/SplitWave_Results/SKS/TransM/SKS_Splitting_LIENZ_TransM.txt')\n",
      "('wrote into:', '/media/hein/home2/SplitWave_Results/SKS/CrossC/SKS_Splitting_LIENZ_CrossC.txt')\n",
      "('wrote into:', '/media/hein/home2/SplitWave_Results/SKS/Eig3D/SKS_Splitting_LIENZ_Eig3D.txt')\n",
      "('wrote into:', '/media/hein/home2/SplitWave_Results/SKS/EigM/SKS_Splitting_LIENZ_EigM.txt')\n"
     ]
    },
    {
     "name": "stderr",
     "output_type": "stream",
     "text": [
      "\r",
      " 40%|████      | 27/67 [00:29<00:42,  1.07s/it]"
     ]
    },
    {
     "name": "stdout",
     "output_type": "stream",
     "text": [
      "Stream has too few samples\n"
     ]
    },
    {
     "name": "stderr",
     "output_type": "stream",
     "text": [
      "\r",
      " 66%|██████▌   | 54/82 [01:05<00:29,  1.04s/it]"
     ]
    },
    {
     "name": "stdout",
     "output_type": "stream",
     "text": [
      "Stream has not 3 channels\n"
     ]
    },
    {
     "name": "stderr",
     "output_type": "stream",
     "text": [
      "\r",
      " 42%|████▏     | 28/67 [00:30<00:40,  1.05s/it]"
     ]
    },
    {
     "name": "stdout",
     "output_type": "stream",
     "text": [
      "Stream has too few samples\n",
      "Stream has too few samples\n"
     ]
    },
    {
     "name": "stderr",
     "output_type": "stream",
     "text": [
      "\r",
      " 67%|██████▋   | 55/82 [01:06<00:27,  1.03s/it]"
     ]
    },
    {
     "name": "stdout",
     "output_type": "stream",
     "text": [
      "Stream has too few samples\n",
      "Stream has too few samples\n"
     ]
    },
    {
     "name": "stderr",
     "output_type": "stream",
     "text": [
      " 68%|██████▊   | 56/82 [01:07<00:26,  1.02s/it]"
     ]
    },
    {
     "name": "stdout",
     "output_type": "stream",
     "text": [
      "Stream has too few samples\n",
      "no matching file\n",
      "Stream has too few samples\n"
     ]
    },
    {
     "name": "stderr",
     "output_type": "stream",
     "text": [
      "\r",
      " 45%|████▍     | 30/67 [00:32<00:38,  1.05s/it]"
     ]
    },
    {
     "name": "stdout",
     "output_type": "stream",
     "text": [
      "Stream has too few samples\n"
     ]
    },
    {
     "name": "stderr",
     "output_type": "stream",
     "text": [
      "\r",
      " 70%|██████▉   | 57/82 [01:08<00:25,  1.02s/it]"
     ]
    },
    {
     "name": "stdout",
     "output_type": "stream",
     "text": [
      "Stream has too few samples\n",
      "Stream has too few samples\n",
      "Stream has too few samples\n"
     ]
    },
    {
     "name": "stderr",
     "output_type": "stream",
     "text": [
      "\r",
      " 46%|████▋     | 31/67 [00:33<00:37,  1.04s/it]"
     ]
    },
    {
     "name": "stdout",
     "output_type": "stream",
     "text": [
      "Stream has too few samples\n",
      "Stream has too few samples\n"
     ]
    },
    {
     "name": "stderr",
     "output_type": "stream",
     "text": [
      "\r",
      " 71%|███████   | 58/82 [01:09<00:24,  1.01s/it]"
     ]
    },
    {
     "name": "stdout",
     "output_type": "stream",
     "text": [
      "Stream has too few samples\n",
      "Stream has too few samples\n"
     ]
    },
    {
     "name": "stderr",
     "output_type": "stream",
     "text": [
      "\r",
      "  0%|          | 0/88 [00:00<?, ?it/s]"
     ]
    },
    {
     "name": "stdout",
     "output_type": "stream",
     "text": [
      "no matching file\n",
      "no matching file\n",
      "no matching file\n",
      "no matching file\n"
     ]
    },
    {
     "name": "stderr",
     "output_type": "stream",
     "text": [
      "100%|██████████| 82/82 [01:34<00:00,  1.05s/it]\n"
     ]
    },
    {
     "name": "stdout",
     "output_type": "stream",
     "text": [
      "Splitting intensity analyis: BALST\n",
      "('dt', 0.40994018071686994)\n",
      "('phi', 47.298189170452687)\n"
     ]
    },
    {
     "name": "stderr",
     "output_type": "stream",
     "text": [
      "100%|██████████| 67/67 [01:11<00:00,  1.00s/it]\n"
     ]
    },
    {
     "name": "stdout",
     "output_type": "stream",
     "text": [
      "Splitting intensity analyis: SENIN\n",
      "('dt', 0.82808690276388697)\n",
      "('phi', 34.242400458660626)\n"
     ]
    },
    {
     "name": "stderr",
     "output_type": "stream",
     "text": [
      "100%|██████████| 55/55 [01:03<00:00,  1.23s/it]\n",
      " 64%|██████▎   | 56/88 [01:04<00:42,  1.33s/it]"
     ]
    },
    {
     "name": "stdout",
     "output_type": "stream",
     "text": [
      "Splitting intensity analyis: LIENZ\n",
      "('dt', 0.51808756768148367)\n",
      "('phi', 59.006247733370493)\n"
     ]
    },
    {
     "name": "stderr",
     "output_type": "stream",
     "text": [
      "100%|██████████| 88/88 [01:34<00:00,  1.05it/s]\n"
     ]
    },
    {
     "name": "stdout",
     "output_type": "stream",
     "text": [
      "Splitting intensity analyis: ZUR\n",
      "('dt', 0.37073399687253644)\n",
      "('phi', 47.443646228943756)\n",
      "--- 246.693543911 seconds ---\n"
     ]
    }
   ],
   "source": [
    "start_time = time.time()\n",
    "### Choose station from station list\n",
    "mod = 'ak135' ##mod = 'iasp91'\n",
    "model = TauPyModel(model=mod)\n",
    "save_loc = '/media/hein/home2/SplitWave_Data'\n",
    "\n",
    "FMT = 'SAC'\n",
    "Splitting_windows = True\n",
    "plot_SplitW = False\n",
    "print(save_loc)\n",
    "new_stat_list = os.listdir(save_loc) ## Get A list of downloaded Stations\n",
    "\n",
    "#method= 'Chevrot'\n",
    "#write_head_CHEV(path, method,header2)     \n",
    "\n",
    "run_MAIN=True\n",
    "do_multiproc=True\n",
    "######################################################################################################    \n",
    "if run_MAIN==True:\n",
    "    if do_multiproc==True:\n",
    "        print('do Multiprocessing')\n",
    "\n",
    "        n_cores=4\n",
    "        p = multiprocessing.Pool(processes=n_cores)\n",
    "        p.map(multiproc_SplitWave, new_stat_list[30:])\n",
    "        p.close()       \n",
    "#####################################################################################################\n",
    "    else:\n",
    "\n",
    "        for item in new_stat_list:    \n",
    "        ## all waveforms for the station\n",
    "\n",
    "            method= 'TransM'\n",
    "            write_head(path, method, item,header)     \n",
    "            method= 'CrossC'\n",
    "            write_head(path, method, item,header)     \n",
    "            method= 'Eig3D'\n",
    "            write_head(path, method, item,header)     \n",
    "            method= 'EigM'\n",
    "            write_head(path, method, station,header)         \n",
    "\n",
    "            ### Reads in the Station DATE\n",
    "\n",
    "            st_ev,st_lat_l,st_lon_l,ev_lat_l,ev_lon_l,ev_time_l,ev_depth_l,ev_mag_l,ev_dist_l,back_azimut_l, t_SKS_l,t_SKKS_l,t_PP_l = read_station_event_data(item)\n",
    "\n",
    "\n",
    "            ### Calls Function for Plotting and Splt\n",
    "            dt,phi,std_dt,std_phi = automatic_SplitWave_Routine(st_ev,st_lat_l,st_lon_l,ev_lat_l,ev_lon_l,ev_time_l,ev_depth_l,ev_mag_l,ev_dist_l,back_azimut_l, t_SKS_l,t_SKKS_l,t_PP_l)\n",
    "\n",
    "            method='Chevrot'\n",
    "            ### Still calculate ERROR Bars and improve Quality of method\n",
    "            write_SKS_Results_CHEV(path, method, [item, dt, std_dt, phi, std_phi], header2)\n",
    "\n",
    "\n",
    "## go through each single event \n",
    "print(\"--- %s seconds ---\" % (time.time() - start_time))"
   ]
  },
  {
   "cell_type": "code",
   "execution_count": null,
   "metadata": {},
   "outputs": [],
   "source": []
  }
 ],
 "metadata": {
  "kernelspec": {
   "display_name": "Python 2",
   "language": "python",
   "name": "python2"
  },
  "language_info": {
   "codemirror_mode": {
    "name": "ipython",
    "version": 2
   },
   "file_extension": ".py",
   "mimetype": "text/x-python",
   "name": "python",
   "nbconvert_exporter": "python",
   "pygments_lexer": "ipython2",
   "version": "2.7.15"
  }
 },
 "nbformat": 4,
 "nbformat_minor": 2
}
