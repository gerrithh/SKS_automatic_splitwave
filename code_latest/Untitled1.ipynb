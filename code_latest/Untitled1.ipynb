{
 "cells": [
  {
   "cell_type": "code",
   "execution_count": 3,
   "metadata": {},
   "outputs": [
    {
     "data": {
      "text/html": [
       "<style>.container { width:75% !important; }</style>"
      ],
      "text/plain": [
       "<IPython.core.display.HTML object>"
      ]
     },
     "metadata": {},
     "output_type": "display_data"
    }
   ],
   "source": [
    "## Process AlpArray Switzerland for SKS-Splitting\n",
    "## Gerrit Hein\n",
    "######################################################\n",
    "######### LOAD IN THE MODULES\n",
    "######################################################\n",
    "from IPython.core.display import display, HTML\n",
    "display(HTML(\"<style>.container { width:75% !important; }</style>\"))\n",
    "\n",
    "import matplotlib.pyplot as plt\n",
    "import numpy as np\n",
    "\n",
    "import os\n",
    "import obspy\n",
    "from obspy import read\n",
    "from obspy.clients.fdsn import Client\n",
    "from obspy import UTCDateTime\n",
    "from obspy.taup import TauPyModel\n",
    "from obspy.geodetics.base import gps2dist_azimuth\n",
    "from obspy.geodetics import locations2degrees\n",
    "from obspy.taup import plot_travel_times\n",
    "from obspy.geodetics import locations2degrees\n",
    "from obspy.signal.rotate import rotate_ne_rt\n",
    "from obspy.signal.polarization import particle_motion_odr\n",
    "\n",
    "from obspy.signal.util import next_pow_2\n",
    "\n",
    "import matplotlib.gridspec as gridspec\n",
    "from scipy.optimize import curve_fit\n",
    "\n",
    "from matplotlib.mlab import specgram\n",
    "from scipy import stats\n",
    "\n",
    "\n",
    "from tqdm import tqdm\n",
    "import time\n",
    "\n",
    "import multiprocessing\n",
    "\n",
    "import splitwavepy as sw\n",
    "######################################################\n",
    "### \n",
    "######################################################\n",
    "\n"
   ]
  },
  {
   "cell_type": "code",
   "execution_count": 22,
   "metadata": {},
   "outputs": [
    {
     "name": "stdout",
     "output_type": "stream",
     "text": [
      "['ABR', 'AIGLE', 'ANTF', 'ARBF', 'BALST', 'BERNI', 'BLB', 'BRANT', 'CALF', 'DAVOX', 'DIX', 'EMV', 'ESCA', 'FIR', 'FUSIO', 'GIMEL', 'GUA', 'HASLI', 'ISO', 'LAU', 'LEPF', 'LIENZ', 'LLS', 'MMK', 'MUGIO', 'MUO', 'NON', 'OGAG', 'OGDI', 'PCP', 'PLONS', 'PRI', 'RORO', 'RSP', 'RUSF', 'SAOF', 'SLE', 'SMPL', 'STET', 'STV', 'SULZ', 'TORNY', 'VAL', 'VAT', 'VDL', 'VIN', 'WILA', 'WIMIS', 'ZUR']\n"
     ]
    }
   ],
   "source": [
    "\n",
    "station = filter(None, station)\n",
    "print(station)"
   ]
  },
  {
   "cell_type": "code",
   "execution_count": 46,
   "metadata": {
    "scrolled": true
   },
   "outputs": [
    {
     "name": "stdout",
     "output_type": "stream",
     "text": [
      "HEADER\n",
      "['Station', 'Lat. (\\xc2\\xb0N)', 'Lon. (\\xc2\\xb0E)', '\\xcf\\x95 (\\xc2\\xb0)', 'Error_\\xcf\\x95 (\\xc2\\xb0)', '\\xce\\xb4t (s)', 'Error_\\xce\\xb4t (s)', 'Number of measurements']\n"
     ]
    }
   ],
   "source": [
    "## load in Barruol values\n",
    "import csv\n",
    "\n",
    "path = '/media/hein/home2/SKS_automatic_splitwave/code_latest/'\n",
    "\n",
    "station = ['']*60\n",
    "lat = ['']*60\n",
    "lon = ['']*60\n",
    "fast = ['']*60\n",
    "dfast= ['']*60\n",
    "lag= ['']*60\n",
    "dlag= ['']*60\n",
    "nSKS = ['']*60\n",
    "\n",
    "with open(path+'Barruol_values.csv') as csv_file:\n",
    "    csv_reader = csv.reader(csv_file, delimiter=',')\n",
    "    line_count = 0\n",
    "    \n",
    "    for row in csv_reader:\n",
    "#        print(row)\n",
    "        if line_count == 0:\n",
    "            print('HEADER')\n",
    "            print(row)\n",
    "            line_count += 1\n",
    "        else:\n",
    "            station[line_count] = row[0]\n",
    "            lat[line_count] = float(row[1])\n",
    "            lon[line_count] = float(row[2])\n",
    "            a = ['1','2','3','4','5','6','7','8','9','0']\n",
    "            if row[3][0] in a:\n",
    "                fast[line_count] = float(row[3][-5:])\n",
    "            else:\n",
    "                fast[line_count] = -1*float(row[3][-5:])\n",
    "                \n",
    "            dfast[line_count] = float(row[4])\n",
    "            lag[line_count] = float(row[5])\n",
    "            dlag[line_count] = float(row[6])\n",
    "            nSKS[line_count] = float(row[7])            \n",
    "\n",
    "            line_count += 1\n",
    "#     print(f'Processed {line_count} lines.')\n"
   ]
  },
  {
   "cell_type": "code",
   "execution_count": 47,
   "metadata": {},
   "outputs": [],
   "source": [
    "station = filter(None, station)\n",
    "lat = filter(None, lat)\n",
    "lon = filter(None, lon)\n",
    "fast = filter(None, fast)\n",
    "dfast = filter(None, dfast)\n",
    "lag = filter(None, lag)\n",
    "dlag = filter(None, dlag)\n",
    "nSKS = filter(None, nSKS)\n",
    "\n",
    "\n",
    "\n",
    "## function to plot \n",
    "## Tasks: "
   ]
  },
  {
   "cell_type": "code",
   "execution_count": 50,
   "metadata": {},
   "outputs": [
    {
     "data": {
      "text/plain": [
       "[<matplotlib.lines.Line2D at 0x7fdb229e8f50>]"
      ]
     },
     "execution_count": 50,
     "metadata": {},
     "output_type": "execute_result"
    },
    {
     "data": {
      "image/png": "[encoded data removed]",
      "text/plain": [
       "<Figure size 432x288 with 1 Axes>"
      ]
     },
     "metadata": {
      "needs_background": "light"
     },
     "output_type": "display_data"
    }
   ],
   "source": [
    "plt.plot(lat,lon,'x')"
   ]
  },
  {
   "cell_type": "code",
   "execution_count": 2,
   "metadata": {},
   "outputs": [],
   "source": [
    "def read_SKS_files(path,filename):\n",
    "    filename = '{0}/{1}'.format(path,filename) #removed first two header lines\n",
    "    with open(filename) as f:\n",
    "        content = f.readlines()\n",
    "\n",
    "    station = ['']*len(content) \n",
    "    dt = ['']*len(content) \n",
    "    dtlag  = ['']*len(content) \n",
    "    fast_dir = ['']*len(content) \n",
    "    dfast_dir = ['']*len(content) \n",
    "\n",
    "    for i in range(1,len(content)-1):\n",
    "        data = zip_longest(*(x.split(' ') for x in content[i].splitlines()), fillvalue='\\t')\n",
    "\n",
    "        for row in zip(*data):\n",
    "            new_data = tuple(np.nan if x == '' else x for x in row)\n",
    "            line = new_data\n",
    "            station[i] = line[0][1:-1]            \n",
    "            dt[i] = float(line[1][1:-2])\n",
    "            dtlag[i] = float(line[2][1:-2])          \n",
    "            fast_dir[i] = float(line[3][1:-2])            \n",
    "            dfast_dir[i] = float(line[4][1:-2])                        \n",
    "\n",
    "    station = np.asarray(station[1:-1])\n",
    "    dt = np.asarray(dt[1:-1])\n",
    "    dtlag = np.asarray(dtlag[1:-1])\n",
    "    fast_dir = np.asarray(fast_dir[1:-1])\n",
    "    ## convert from -90-90 to 0-180    \n",
    "    fast_dir = (fast_dir+180)%180    \n",
    "    dfast_dir = np.asarray(dfast_dir[1:-1])    \n",
    "        \n",
    "    return station,dt,dtlag,fast_dir,dfast_dir\n"
   ]
  },
  {
   "cell_type": "code",
   "execution_count": null,
   "metadata": {},
   "outputs": [],
   "source": [
    "header='Station.code, ' + \\\n",
    "        'Station.lat [°],' + \\\n",
    "        'Station.lon [°],' + \\\n",
    "        'Event time, ' + \\\n",
    "        'Event depth [km], ' + \\\n",
    "        'Event mag, '+ \\\n",
    "        'Event lat [°], ' + \\\n",
    "        'Event lon [°], ' + \\\n",
    "        'best fast dir [°], ' + \\\n",
    "        'dfast dir [°], ' +\\\n",
    "        'best lag [s], ' + \\\n",
    "        'dlag [s], ' + \\\n",
    "        'SNR [dB], ' + \\\n",
    "        'window param t1 [s], ' + \\\n",
    "        'window param t2 [s], ' + \\\n",
    "        'Chi-Squared-phi ' + \\\n",
    "        'p-value-phi, ' + \\\n",
    "        'Chi-Squared-dt, ' + \\\n",
    "        'p-value-dt'\n",
    "\n",
    "header2='Station.code, ' + \\\n",
    "        'fast dir [°]' + \\\n",
    "        'dfast dir [°], ' + \\\n",
    "        'dt [s],' + \\\n",
    "        'dlag [s],' + \\\n",
    "        'Chi-Squared-phi ' + \\\n",
    "        'p-value-phi, ' + \\\n",
    "        'Chi-Squared-dt, ' + \\\n",
    "        'p-value-dt' + \\\n",
    "        'number Events'\n"
   ]
  }
 ],
 "metadata": {
  "kernelspec": {
   "display_name": "Python 2",
   "language": "python",
   "name": "python2"
  },
  "language_info": {
   "codemirror_mode": {
    "name": "ipython",
    "version": 2
   },
   "file_extension": ".py",
   "mimetype": "text/x-python",
   "name": "python",
   "nbconvert_exporter": "python",
   "pygments_lexer": "ipython2",
   "version": "2.7.15"
  }
 },
 "nbformat": 4,
 "nbformat_minor": 2
}
